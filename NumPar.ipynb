{
 "cells": [
  {
   "cell_type": "markdown",
   "id": "a9b00932",
   "metadata": {},
   "source": [
    "# 0 Libraries and settings"
   ]
  },
  {
   "cell_type": "markdown",
   "id": "53fe0190",
   "metadata": {},
   "source": [
    "Import the necessary libraries:"
   ]
  },
  {
   "cell_type": "code",
   "execution_count": 1,
   "id": "8c717c36",
   "metadata": {},
   "outputs": [],
   "source": [
    "import numpy as np\n",
    "import pandas as pd\n",
    "import matplotlib.pyplot as plt\n",
    "from scipy import stats\n",
    "import os\n",
    "import seaborn as sns\n",
    "from tqdm import tqdm\n",
    "import math as m\n",
    "from scipy.interpolate import UnivariateSpline\n",
    "from matplotlib.ticker import ScalarFormatter"
   ]
  },
  {
   "cell_type": "markdown",
   "id": "7897ff18",
   "metadata": {},
   "source": [
    "Set the background color of figures to white as default when saving:"
   ]
  },
  {
   "cell_type": "code",
   "execution_count": 2,
   "id": "398b414d",
   "metadata": {},
   "outputs": [],
   "source": [
    "plt.rcParams['savefig.facecolor']='white'"
   ]
  },
  {
   "cell_type": "markdown",
   "id": "16a00003",
   "metadata": {},
   "source": [
    "# 1 Sampling from large particle dataset"
   ]
  },
  {
   "cell_type": "markdown",
   "id": "c1e0796d",
   "metadata": {},
   "source": [
    "## 1.1 Read in and prepare the data"
   ]
  },
  {
   "cell_type": "markdown",
   "id": "f7bb1324",
   "metadata": {},
   "source": [
    "Read in the particle data stored as csv file (e.g. as output of ImageJ-ParticleSizer analysis) and save them as Pandas dataframe."
   ]
  },
  {
   "cell_type": "markdown",
   "id": "f88c310f",
   "metadata": {},
   "source": [
    "In case of a single csv file:"
   ]
  },
  {
   "cell_type": "code",
   "execution_count": 3,
   "id": "ec1b7215",
   "metadata": {},
   "outputs": [
    {
     "name": "stdout",
     "output_type": "stream",
     "text": [
      "              Frame  Label       X       Y    Area  Area Conv. Hull   Peri.  \\\n",
      "0          1      1      1  2.3694  0.0134  0.0001           0.0001  0.0384   \n",
      "1          2      1      2  0.5286  0.0149  0.0002           0.0002  0.0493   \n",
      "2          3      1      3  0.6986  0.0175  0.0002           0.0003  0.0551   \n",
      "3          4      1      4  2.0906  0.0200  0.0003           0.0003  0.0596   \n",
      "4          5      1      5  0.8212  0.0220  0.0004           0.0004  0.0680   \n",
      "...      ...    ...    ...     ...     ...     ...              ...     ...   \n",
      "11648  11649     10   1341  2.3250  2.4173  0.0002           0.0002  0.0479   \n",
      "11649  11650     10   1342  0.4628  2.4292  0.0002           0.0002  0.0503   \n",
      "11650  11651     10   1343  1.0229  2.4302  0.0002           0.0002  0.0468   \n",
      "11651  11652     10   1344  2.3205  2.4322  0.0002           0.0002  0.0530   \n",
      "11652  11653     10   1345  0.1563  2.4352  0.0003           0.0003  0.0599   \n",
      "\n",
      "       Peri. Conv. Hull   Feret  ...    Circ.  Elong.  Convexity  Solidity  \\\n",
      "0                0.0396  0.0146  ...  12.4758  0.5611        1.0    0.9851   \n",
      "1                0.0498  0.0169  ...  12.4258  0.2700        1.0    0.9698   \n",
      "2                0.0557  0.0199  ...  12.2427  0.4466        1.0    0.9761   \n",
      "3                0.0603  0.0208  ...  12.2619  0.3561        1.0    0.9736   \n",
      "4                0.0687  0.0233  ...  12.2109  0.3262        1.0    0.9806   \n",
      "...                 ...     ...  ...      ...     ...        ...       ...   \n",
      "11648            0.0489  0.0178  ...  12.2890  0.5003        1.0    0.9738   \n",
      "11649            0.0513  0.0183  ...  11.9374  0.4097        1.0    0.9785   \n",
      "11650            0.0474  0.0163  ...  12.3854  0.2548        1.0    0.9667   \n",
      "11651            0.0539  0.0180  ...  11.9152  0.3239        1.0    0.9763   \n",
      "11652            0.0608  0.0207  ...  12.3230  0.2803        1.0    0.9784   \n",
      "\n",
      "       Num. of Holes  Thinnes Rt.  Contour Temp.  Orientation  Fract. Dim.  \\\n",
      "0                  0          1.0         0.1664      96.3709       1.3852   \n",
      "1                  0          1.0         0.1317     116.5658       1.5569   \n",
      "2                  0          1.0         0.1320     102.7316       1.5302   \n",
      "3                  0          1.0         0.1329       6.8236       1.5880   \n",
      "4                  0          1.0         0.1293     164.0536       1.6142   \n",
      "...              ...          ...            ...          ...          ...   \n",
      "11648              0          1.0         0.1515       9.0519       1.5419   \n",
      "11649              0          1.0         0.1498     157.5311       1.5841   \n",
      "11650              0          1.0         0.1366     125.1486       1.5147   \n",
      "11651              0          1.0         0.1449     151.4017       1.6215   \n",
      "11652              0          1.0         0.1385     143.6518       1.5334   \n",
      "\n",
      "       Fract. Dim. Goodness  \n",
      "0                    0.9612  \n",
      "1                    0.9658  \n",
      "2                    0.9921  \n",
      "3                    0.9902  \n",
      "4                    0.9960  \n",
      "...                     ...  \n",
      "11648                0.9630  \n",
      "11649                0.9655  \n",
      "11650                0.9637  \n",
      "11651                0.9652  \n",
      "11652                0.9915  \n",
      "\n",
      "[11653 rows x 27 columns]\n"
     ]
    }
   ],
   "source": [
    "frame = pd.read_csv('data\\ParticleSizer_data.csv')\n",
    "print (frame)"
   ]
  },
  {
   "cell_type": "markdown",
   "id": "8c46e738",
   "metadata": {},
   "source": [
    "In case you want to combine data from multiple csv files:"
   ]
  },
  {
   "cell_type": "code",
   "execution_count": null,
   "id": "7aab920f",
   "metadata": {},
   "outputs": [],
   "source": [
    "frame = pd.DataFrame()\n",
    "list_ = []\n",
    "os.chdir('data')\n",
    "for csvFilename in os.listdir(os.getcwd()):\n",
    "    if not csvFilename.endswith('.csv'):\n",
    "        continue\n",
    "    df = pd.read_csv(csvFilename)\n",
    "    list_.append(df)\n",
    "frame = pd.concat(list_)\n",
    "print (frame)"
   ]
  },
  {
   "cell_type": "markdown",
   "id": "d054f6cb",
   "metadata": {},
   "source": [
    "Let's clean the dataframe by deleting rows which contain unreadable/uninterpretable data, i.e. NaNs (not a number) or infinity values:"
   ]
  },
  {
   "cell_type": "code",
   "execution_count": 12,
   "id": "6c6dbf8f",
   "metadata": {},
   "outputs": [],
   "source": [
    "frame.replace([np.inf, -np.inf], np.nan, inplace=True)\n",
    "frame = frame.dropna()"
   ]
  },
  {
   "cell_type": "markdown",
   "id": "0d86b2a2",
   "metadata": {},
   "source": [
    "The dataframe contains many columns with data for a variety of particle parameters that were outputted by the ParticleSizer software. In this example, we are only interested in the data of the following parameters: minimum and maximum Feret diameter (Fmin, Fmax), area equivalent circle diameter (ECD), maximum inscribed circle diameter (MICD) and aspect ratio (AR). Unify the column names of interest and create a new dataframe keeping only those columns:"
   ]
  },
  {
   "cell_type": "code",
   "execution_count": 13,
   "id": "d3685a4d",
   "metadata": {},
   "outputs": [],
   "source": [
    "frame.rename(columns={'Min. Feret': 'Fmin'}, inplace=True)\n",
    "frame.rename(columns={'Feret': 'Fmax'}, inplace=True)\n",
    "frame.rename(columns={'Area equivalent circle diameter': 'ECD'}, inplace=True)\n",
    "frame.rename(columns={'Maximum inscribed circle diameter': 'MICD'}, inplace=True)\n",
    "frame.rename(columns={'Aspect Ratio': 'AR'}, inplace=True)"
   ]
  },
  {
   "cell_type": "code",
   "execution_count": 14,
   "id": "ea5c920f",
   "metadata": {},
   "outputs": [],
   "source": [
    "columns_to_keep = ['Fmin', 'Fmax', 'ECD', 'MICD', 'AR']  \n",
    "frame=frame[columns_to_keep]"
   ]
  },
  {
   "cell_type": "markdown",
   "id": "97b06152",
   "metadata": {},
   "source": [
    "We want to output the data in unit of nanometer. In case the data was in a different unit (e.g. micrometer) convert the columns of interest to nanometer (e.g. x1000)."
   ]
  },
  {
   "cell_type": "code",
   "execution_count": 15,
   "id": "8ca24c0a",
   "metadata": {},
   "outputs": [],
   "source": [
    "frame['Fmin'] = frame['Fmin'].multiply(1000)\n",
    "frame['Fmax'] = frame['Fmax'].multiply(1000)\n",
    "frame['ECD'] = frame['ECD'].multiply(1000)\n",
    "frame['MICD'] = frame['MICD'].multiply(1000)"
   ]
  },
  {
   "cell_type": "markdown",
   "id": "cfc4ff84",
   "metadata": {},
   "source": [
    "## 1.2 Full dataset statistics + histogram"
   ]
  },
  {
   "cell_type": "markdown",
   "id": "c253b0b9",
   "metadata": {},
   "source": [
    "Let's first create a folder to output all our data. Let's call it MyMaterial_Output. "
   ]
  },
  {
   "cell_type": "code",
   "execution_count": 20,
   "id": "9f93f8c7",
   "metadata": {},
   "outputs": [],
   "source": [
    "os.chdir('..')\n",
    "folder = 'MyMaterial_NumPar'\n",
    "os.makedirs(folder) # comment this line when the folder already exists\n",
    "os.chdir(folder)"
   ]
  },
  {
   "cell_type": "markdown",
   "id": "6ca94502",
   "metadata": {},
   "source": [
    "Calculate the statistics of the Fmin, Fmax, ECD, MICD and AR measurands using the pandas describe function. Include also the calculation of the interquartile range (IQR) and the normalized IQR (IQR% = IQR/D50) and write them to a file:"
   ]
  },
  {
   "cell_type": "code",
   "execution_count": 21,
   "id": "76204a45",
   "metadata": {},
   "outputs": [],
   "source": [
    "def calculate_statistics(df, output_file):\n",
    "    # Specify the percentiles to be calculated\n",
    "    percentiles = [0.10, 0.25, 0.50, 0.75, 0.90]\n",
    "    \n",
    "    # Use describe to get statistics including specified percentiles\n",
    "    desc = df.describe(percentiles=percentiles).T\n",
    "    \n",
    "    # Calculate IQR (Interquartile Range)\n",
    "    desc['IQR'] = desc['75%'] - desc['25%']\n",
    "    \n",
    "    # Calculate IQR%\n",
    "    desc['IQR%'] = desc['IQR'] / desc['50%'] * 100\n",
    "    \n",
    "    # Re-arrange the DataFrame to include IQR and IQR% in the output\n",
    "    stats_df = desc[['count', 'mean', 'std', 'min', '10%', '25%', '50%', '75%', '90%', 'max', 'IQR', 'IQR%']]\n",
    "    \n",
    "    # Transpose so that statistical measures are rows and columns are original DataFrame columns\n",
    "    stats_df = stats_df.T\n",
    "    \n",
    "    # Write the result to a CSV file\n",
    "    stats_df.to_csv(output_file)"
   ]
  },
  {
   "cell_type": "code",
   "execution_count": 22,
   "id": "b6b9af65",
   "metadata": {},
   "outputs": [],
   "source": [
    "calculate_statistics(frame, 'Full_set_statistics.csv')"
   ]
  },
  {
   "cell_type": "markdown",
   "id": "750865a4",
   "metadata": {},
   "source": [
    "Set the measurand + unit you want to plot the histogram for:"
   ]
  },
  {
   "cell_type": "code",
   "execution_count": 23,
   "id": "14b3b9f1",
   "metadata": {},
   "outputs": [],
   "source": [
    "measurand = 'Fmin'\n",
    "unit = '(nm)'"
   ]
  },
  {
   "cell_type": "markdown",
   "id": "0cd22118",
   "metadata": {},
   "source": [
    "Define the function to plot the histogram. The function contains a boolean 'PercentileLines' to determine whether vertical lines at the positions of the D10, D25, D50, D75, D90 should be drawn on the histogram. "
   ]
  },
  {
   "cell_type": "code",
   "execution_count": 24,
   "id": "05d97219",
   "metadata": {},
   "outputs": [],
   "source": [
    "def plotHistogram(df, PercentileLines: bool):\n",
    "    \n",
    "    hist = sns.histplot(df, label='N = ' + str(len(df.index)), bins = 'fd') # bins according to Freedman-Diaconis rule\n",
    "    \n",
    "    # if PercentileLines is True, the next few lines of code will plot vertical lines on the histogram at the position of the different percentiles\n",
    "    if PercentileLines:\n",
    "        perc_txt = ['D10', 'D25', 'D50', 'D75', 'D90']\n",
    "        percs = [df.quantile(0.1), df.quantile(0.25), df.quantile(0.5), df.quantile(0.75), df.quantile(0.9)]\n",
    "        max_y_value = max([p.get_height() for p in hist.patches])\n",
    "        for i, p in enumerate(percs):\n",
    "            plt.axvline(x = p, color = 'k', linestyle = '--')\n",
    "            plt.text(p - (percs[0]/10), max_y_value - (max_y_value/8), perc_txt[i], rotation = 'vertical', fontsize = 14)\n",
    "    \n",
    "    # plot settings       \n",
    "    plt.xlabel(measurand + ' ' + unit, fontsize = 20)\n",
    "    plt.ylabel('Count', fontsize=20)\n",
    "    #plt.xlim(0,35)\n",
    "    #plt.ylim(0,500)\n",
    "    plt.xticks(fontsize=16)\n",
    "    plt.yticks(fontsize=16)\n",
    "    plt.legend(fontsize=14)\n",
    "    plt.tight_layout()\n",
    "    \n",
    "    # save the histogram as a figure\n",
    "    plt.savefig(measurand + '_hist_N=' + str(len(df.index)) +'.png', dpi = 200)\n",
    "    "
   ]
  },
  {
   "cell_type": "markdown",
   "id": "457c799d",
   "metadata": {},
   "source": [
    "Plot the histogram of Fmin:"
   ]
  },
  {
   "cell_type": "code",
   "execution_count": 25,
   "id": "eedf3d0c",
   "metadata": {},
   "outputs": [
    {
     "data": {
      "image/png": "[encoded data removed]",
      "text/plain": [
       "<Figure size 432x288 with 1 Axes>"
      ]
     },
     "metadata": {
      "needs_background": "light"
     },
     "output_type": "display_data"
    }
   ],
   "source": [
    "plotHistogram(frame[measurand], True)"
   ]
  },
  {
   "cell_type": "markdown",
   "id": "cff78baf",
   "metadata": {},
   "source": [
    "## 1.3 Sampling subdatasets of increasing particle size N"
   ]
  },
  {
   "cell_type": "markdown",
   "id": "263ba711",
   "metadata": {},
   "source": [
    "Create a list of N values between 10 and the max of the full data set. For each of these values of N a subdataset will be sampled later."
   ]
  },
  {
   "cell_type": "code",
   "execution_count": 26,
   "id": "77037fc6",
   "metadata": {},
   "outputs": [],
   "source": [
    "# Create a list of 80 integers logaritmically spaced between 10 and 10^4\n",
    "n=np.logspace(1, 4, num=80, dtype='int')\n",
    "\n",
    "# In case the size of the dataset (N_tot) is smaller than 10^4, N values which are larger N_tot are removed. The N_tot value is added as the max N for sampling.\n",
    "n=n[n< len(frame)]\n",
    "if(n[-1]<10000): n=np.append(n, len(frame))\n",
    "    \n",
    "# Delete repeating numbers\n",
    "n=np.unique(n)"
   ]
  },
  {
   "cell_type": "code",
   "execution_count": 27,
   "id": "71030d33",
   "metadata": {},
   "outputs": [
    {
     "name": "stdout",
     "output_type": "stream",
     "text": [
      "[   10    11    12    14    15    16    18    20    21    23    26    28\n",
      "    31    34    37    40    44    48    52    57    62    68    74    81\n",
      "    88    97   106   115   126   137   150   164   179   195   213   232\n",
      "   254   277   302   330   360   393   429   468   511   558   609   664\n",
      "   725   792   864   943  1029  1123  1226  1338  1460  1594  1739  1898\n",
      "  2072  2261  2468  2693  2940  3208  3501  3821  4171  4552  4968  5422\n",
      "  5917  6458  7048  7692  8395  9162 10000]\n"
     ]
    }
   ],
   "source": [
    "print(n)"
   ]
  },
  {
   "cell_type": "markdown",
   "id": "e49c863e",
   "metadata": {},
   "source": [
    "Construct a function to create subsamples of measured particles of increasing size N for a chosen number of samples per N. Particles are drawn with replacement, meaning each particle can be drawn more than once. In this way, multiple samples up to size N_tot can be drawn without creating identical samples. The function returns a set of dataframes (a dataframe for each measurand) where for each N the mean, standard deviation (std) and U_N is calculated. U_N is defined as the relative std (=std/mean) at a confidence interval of 95% (k=2) and given as a percentage value: U_N = 2 * 100 * std/mean."
   ]
  },
  {
   "cell_type": "code",
   "execution_count": 28,
   "id": "ec2c9797",
   "metadata": {},
   "outputs": [],
   "source": [
    "def SubSampling(df, numSamplesPerNumParticles: int):\n",
    "    \n",
    "    # create an empty numpy array of objects with size equal to the number of columns in the dataframe, i.e. the number of measurands\n",
    "    measurands = df.columns.values\n",
    "    print(measurands)\n",
    "    stats = np.empty(len(measurands), dtype=object)\n",
    "    \n",
    "    # loop over the N values\n",
    "    for i in tqdm(n):    # tqdm shows a status bar for the for loop in the console + time estimate\n",
    "        \n",
    "        # loop over the number of subsamples\n",
    "        for j in range(0, numSamplesPerNumParticles):\n",
    "            # take a sample of size N with replacement\n",
    "            df_s = df.sample(n=i, replace=True)\n",
    "            \n",
    "            #loop over the different measurands\n",
    "            for k,m in enumerate(measurands):\n",
    "                # calculate the statistics including percentiles of the subsample\n",
    "                stats_temp = df_s[m].describe(percentiles=[0.05, 0.10, 0.25, 0.5, 0.75, 0.9, 0.95])\n",
    "                \n",
    "                # Add the statistics calculated for each N and for each sample to a dataframe\n",
    "                stats[k] = pd.concat([stats[k], stats_temp.to_frame().transpose()], ignore_index=True)\n",
    "    \n",
    "    # calculate the dataframes grouped by \"count\"(=particle number N), where the mean, std and U_N (saved as <lambda_0>) of the different samples at each N are calculated and store them in a list \n",
    "    data_out = []\n",
    "    for s in range(0, len(stats)):\n",
    "        data_out.append(stats[s].groupby(\"count\").agg([np.mean, np.std, lambda x: 2*100* (np.std(x) / np.mean(x))]))\n",
    "        \n",
    "    return data_out"
   ]
  },
  {
   "cell_type": "markdown",
   "id": "d8120a27",
   "metadata": {},
   "source": [
    "Run the function for 500 subsamples."
   ]
  },
  {
   "cell_type": "code",
   "execution_count": 29,
   "id": "c14f4c1c",
   "metadata": {},
   "outputs": [
    {
     "name": "stdout",
     "output_type": "stream",
     "text": [
      "['Fmin' 'Fmax' 'ECD' 'MICD' 'AR']\n"
     ]
    },
    {
     "name": "stderr",
     "output_type": "stream",
     "text": [
      "100%|██████████| 79/79 [06:14<00:00,  4.75s/it]\n"
     ]
    }
   ],
   "source": [
    "SamplingData = SubSampling(frame, 500)"
   ]
  },
  {
   "cell_type": "markdown",
   "id": "40104c93",
   "metadata": {},
   "source": [
    "Define a function to rename the percentile columns in the sampling data:"
   ]
  },
  {
   "cell_type": "code",
   "execution_count": 30,
   "id": "8b55fb99",
   "metadata": {},
   "outputs": [],
   "source": [
    "def RenamePercCols(df):\n",
    "    df.rename(\n",
    "        columns={'5%': 'D5', '10%': 'D10', '25%': 'D25', '50%': 'D50', '75%': 'D75', '90%': 'D90', '95%': 'D95'},\n",
    "        inplace=True)\n",
    "    return"
   ]
  },
  {
   "cell_type": "markdown",
   "id": "4730ef81",
   "metadata": {},
   "source": [
    "Apply the above generated function and save the dataframes as csv files for each measurand:"
   ]
  },
  {
   "cell_type": "code",
   "execution_count": 31,
   "id": "c14f7e27",
   "metadata": {},
   "outputs": [],
   "source": [
    "for i, fr in enumerate(SamplingData):\n",
    "    RenamePercCols(fr)\n",
    "    measurand = frame.columns[i]\n",
    "    fr.to_csv('SubSampling_Stats_'+measurand+'.csv')"
   ]
  },
  {
   "cell_type": "markdown",
   "id": "38981198",
   "metadata": {},
   "source": [
    "# 2 Plotting and fitting relation between N and U_N"
   ]
  },
  {
   "cell_type": "markdown",
   "id": "ae4a568a",
   "metadata": {},
   "source": [
    "The uncertainty related to particle number U_N is defined at each N by the relative std of the characteristic calculated based on the subsamples. It is expressed with a confidence interval of 95% (k=2). We will now plot the relation between N and U_N and determine the number of particles required to reach specific values of U_N by fitting the relation. Let's say we wanna do this for the Fmin."
   ]
  },
  {
   "cell_type": "markdown",
   "id": "5766bef4",
   "metadata": {},
   "source": [
    "First, let's read in the subsampling data produced in section 1."
   ]
  },
  {
   "cell_type": "markdown",
   "id": "72283b2b",
   "metadata": {},
   "source": [
    "Verify that you are in the right directory where the data is stored. If needed you can change the directory with the os.chdir() function."
   ]
  },
  {
   "cell_type": "code",
   "execution_count": 32,
   "id": "a552dbf9",
   "metadata": {},
   "outputs": [
    {
     "data": {
      "text/plain": [
       "'C:\\\\Users\\\\ChWo3222\\\\Desktop\\\\MyNotebooks\\\\NumPar\\\\MyMaterial_NumPar'"
      ]
     },
     "execution_count": 32,
     "metadata": {},
     "output_type": "execute_result"
    }
   ],
   "source": [
    "os.getcwd()\n",
    "#os.chdir('..')"
   ]
  },
  {
   "cell_type": "markdown",
   "id": "f9070e49",
   "metadata": {},
   "source": [
    "Read in the data as a pandas dataframe:"
   ]
  },
  {
   "cell_type": "code",
   "execution_count": 33,
   "id": "2dd422dd",
   "metadata": {},
   "outputs": [],
   "source": [
    "measurand = 'Fmin' # choose Fmin, Fmax, ECD, MICD, AR or other\n",
    "data = pd.read_csv('SubSampling_Stats_'+measurand+'.csv', header=[0, 1], index_col=0)"
   ]
  },
  {
   "cell_type": "markdown",
   "id": "5ae86c1c",
   "metadata": {},
   "source": [
    "Make a new folder, named according to the analyzed measurand, to save the generated output plots and change the directory to it:"
   ]
  },
  {
   "cell_type": "code",
   "execution_count": 34,
   "id": "42259a51",
   "metadata": {},
   "outputs": [],
   "source": [
    "folder = measurand + '_output'\n",
    "os.makedirs(folder) # comment this line when the folder already exists\n",
    "os.chdir(folder)"
   ]
  },
  {
   "cell_type": "markdown",
   "id": "2ff8d85d",
   "metadata": {},
   "source": [
    "## 2.1 Plotting"
   ]
  },
  {
   "cell_type": "markdown",
   "id": "afc68399",
   "metadata": {},
   "source": [
    "Define a function that plots a specific column (defined by two column titles: column = D10, D50, etc..; par = mean, std, <lambda_0>) of a given dataframe."
   ]
  },
  {
   "cell_type": "code",
   "execution_count": 35,
   "id": "9454bbde",
   "metadata": {},
   "outputs": [],
   "source": [
    "def plot_datacolumn(df, column: str, par: str):\n",
    "    \n",
    "    # depending on the parameter 'par', set the correct label and unit for the y-axis\n",
    "    if par == '<lambda_0>': \n",
    "        par_l = r'$U_{\\rm N}$'\n",
    "        unit = '(%)'\n",
    "    elif par == 'mean':\n",
    "        par_l = 'Mean'\n",
    "        unit = '(nm)'\n",
    "    elif par == 'std':\n",
    "        par_l = 'Std'\n",
    "        unit = '(nm)'\n",
    "    else:\n",
    "        par_l = par\n",
    "        unit = ''\n",
    "    \n",
    "    # plot the data on a semilog plot\n",
    "    plt.semilogx(df.index, df[column, par], '.', label=column)\n",
    "    \n",
    "    # plot settings\n",
    "    plt.ylabel(par_l + ' ' + unit, fontsize=20)      \n",
    "    plt.xlabel(r'$N$', fontsize=20)\n",
    "    plt.xticks(fontsize=16)\n",
    "    plt.yticks(fontsize=16)\n",
    "    plt.xlim(10,df.index[-1])\n",
    "    plt.legend(fontsize = 14)\n",
    "    plt.tight_layout()"
   ]
  },
  {
   "cell_type": "markdown",
   "id": "e6ce295e",
   "metadata": {},
   "source": [
    "Plot the mean and U_N as a function of N:"
   ]
  },
  {
   "cell_type": "code",
   "execution_count": 36,
   "id": "0f84fc90",
   "metadata": {},
   "outputs": [
    {
     "data": {
      "image/png": "[encoded data removed]",
      "text/plain": [
       "<Figure size 432x288 with 1 Axes>"
      ]
     },
     "metadata": {
      "needs_background": "light"
     },
     "output_type": "display_data"
    },
    {
     "data": {
      "image/png": "[encoded data removed]",
      "text/plain": [
       "<Figure size 432x288 with 1 Axes>"
      ]
     },
     "metadata": {
      "needs_background": "light"
     },
     "output_type": "display_data"
    }
   ],
   "source": [
    "plot_datacolumn(data, 'D50', 'mean')\n",
    "plt.show()\n",
    "plot_datacolumn(data, 'D50', '<lambda_0>')\n",
    "plt.show()"
   ]
  },
  {
   "cell_type": "markdown",
   "id": "adc90f5b",
   "metadata": {},
   "source": [
    "Plot U_N of all percentiles as a function of N on one plot:"
   ]
  },
  {
   "cell_type": "code",
   "execution_count": 37,
   "id": "d6b8dc31",
   "metadata": {},
   "outputs": [
    {
     "data": {
      "image/png": "[encoded data removed]",
      "text/plain": [
       "<Figure size 432x288 with 1 Axes>"
      ]
     },
     "metadata": {
      "needs_background": "light"
     },
     "output_type": "display_data"
    }
   ],
   "source": [
    "perc=['D10', 'D25', 'D50', 'D75', 'D90']\n",
    "for p in perc:\n",
    "    plot_datacolumn(data, p, '<lambda_0>')\n",
    "plt.show()"
   ]
  },
  {
   "cell_type": "markdown",
   "id": "4a615f8d",
   "metadata": {},
   "source": [
    "Do the same but on a logscale for the y axis as well:"
   ]
  },
  {
   "cell_type": "code",
   "execution_count": 38,
   "id": "6165be6d",
   "metadata": {},
   "outputs": [
    {
     "data": {
      "image/png": "[encoded data removed]",
      "text/plain": [
       "<Figure size 432x288 with 1 Axes>"
      ]
     },
     "metadata": {
      "needs_background": "light"
     },
     "output_type": "display_data"
    }
   ],
   "source": [
    "perc=['D10', 'D25', 'D50', 'D75', 'D90']\n",
    "for p in perc:\n",
    "    plot_datacolumn(data, p, '<lambda_0>')\n",
    "plt.yscale('log')\n",
    "plt.ylim(0.1,50)\n",
    "plt.show()"
   ]
  },
  {
   "cell_type": "markdown",
   "id": "6cb692f0",
   "metadata": {},
   "source": [
    "## 2.2 Fitting U_N using UnivariateSpline"
   ]
  },
  {
   "cell_type": "markdown",
   "id": "5dd0c3cd",
   "metadata": {},
   "source": [
    "Set parameter for which you wanna do the fitting:"
   ]
  },
  {
   "cell_type": "code",
   "execution_count": 39,
   "id": "1272d402",
   "metadata": {},
   "outputs": [],
   "source": [
    "par = 'D50'"
   ]
  },
  {
   "cell_type": "markdown",
   "id": "af7770be",
   "metadata": {},
   "source": [
    "Create an array of x values to be used for the fitting function:"
   ]
  },
  {
   "cell_type": "code",
   "execution_count": 40,
   "id": "b01a1424",
   "metadata": {},
   "outputs": [],
   "source": [
    "xs = np.linspace(1, 4, 1000)\n",
    "xs_f = 10**xs\n",
    "xs_f = xs_f[xs_f<=data.index[-1]]"
   ]
  },
  {
   "cell_type": "markdown",
   "id": "e3ecc2a1",
   "metadata": {},
   "source": [
    "Define a function to fit a smooth curve to the U_N vs. N data, using the UnivariateSpline function. The smoothing parameter defines the degree of smooting and this will have to be adapted manually to achieve the best fit."
   ]
  },
  {
   "cell_type": "code",
   "execution_count": 41,
   "id": "4e4ecefa",
   "metadata": {},
   "outputs": [],
   "source": [
    "def smoothCurve(df, column, smoothing):\n",
    "    # x data need to be converted to linear scale for the spline to work\n",
    "    xlogScale = np.log10(df.index)  \n",
    "    \n",
    "    # perform the fit using UnivariateSpline function\n",
    "    s = UnivariateSpline(xlogScale, df[column, '<lambda_0>'], s = smoothing) #s = smoothing factor, the higher the more smoothing is applied\n",
    "    ys = s(xs)\n",
    "    ys_f = ys[0:len(xs_f)]\n",
    "    \n",
    "    # plot the fit function and plot the data on the same figure\n",
    "    plt.plot(xs_f, ys_f, 'k-')\n",
    "    plot_datacolumn(df, column, '<lambda_0>')\n",
    "    \n",
    "    #plot settings\n",
    "    plt.xscale('log')\n",
    "    plt.tight_layout()\n",
    "    plt.show()\n",
    "    \n",
    "    #return the y values of the fit curve\n",
    "    return ys_f"
   ]
  },
  {
   "cell_type": "markdown",
   "id": "855787e0",
   "metadata": {},
   "source": [
    "Perform the fitting procedure for the D50 data and adapt the smoothing value until a nice smooth curve fit is obtained. Increasing the value will make the curve more smooth."
   ]
  },
  {
   "cell_type": "code",
   "execution_count": 42,
   "id": "eb11de7e",
   "metadata": {},
   "outputs": [
    {
     "data": {
      "image/png": "[encoded data removed]",
      "text/plain": [
       "<Figure size 432x288 with 1 Axes>"
      ]
     },
     "metadata": {
      "needs_background": "light"
     },
     "output_type": "display_data"
    },
    {
     "data": {
      "text/plain": [
       "array([14.28898678, 14.2468874 , 14.20488155, 14.16296912, 14.12115001,\n",
       "       14.07942409, 14.03779127, 13.99625142, 13.95480444, 13.91345021,\n",
       "       13.87218863, 13.83101958, 13.78994296, 13.74895865, 13.70806654,\n",
       "       13.66726652, 13.62655848, 13.5859423 , 13.54541789, 13.50498512,\n",
       "       13.46464388, 13.42439407, 13.38423558, 13.34416828, 13.30419208,\n",
       "       13.26430685, 13.2245125 , 13.1848089 , 13.14519595, 13.10567353,\n",
       "       13.06624155, 13.02689987, 12.9876484 , 12.94848702, 12.90941562,\n",
       "       12.87043409, 12.83154232, 12.7927402 , 12.75402762, 12.71540446,\n",
       "       12.67687062, 12.63842598, 12.60007044, 12.56180387, 12.52362618,\n",
       "       12.48553725, 12.44753697, 12.40962522, 12.37180191, 12.3340669 ,\n",
       "       12.29642011, 12.25886141, 12.22139069, 12.18400784, 12.14671276,\n",
       "       12.10950532, 12.07238543, 12.03535296, 11.99840781, 11.96154987,\n",
       "       11.92477902, 11.88809515, 11.85149816, 11.81498793, 11.77856436,\n",
       "       11.74222732, 11.70597671, 11.66981242, 11.63373434, 11.59774235,\n",
       "       11.56183635, 11.52601622, 11.49028186, 11.45463315, 11.41906998,\n",
       "       11.38359224, 11.34819982, 11.31289261, 11.27767049, 11.24253336,\n",
       "       11.20748111, 11.17251362, 11.13763078, 11.10283249, 11.06811863,\n",
       "       11.03348909, 10.99894375, 10.96448252, 10.93010527, 10.8958119 ,\n",
       "       10.8616023 , 10.82747635, 10.79343394, 10.75947496, 10.72559931,\n",
       "       10.69180687, 10.65809752, 10.62447117, 10.59092769, 10.55746698,\n",
       "       10.52408892, 10.49079341, 10.45758033, 10.42444957, 10.39140103,\n",
       "       10.35843458, 10.32555013, 10.29274755, 10.26002674, 10.22738759,\n",
       "       10.19482998, 10.16235381, 10.12995896, 10.09764532, 10.06541279,\n",
       "       10.03326124, 10.00119057,  9.96920068,  9.93729144,  9.90546274,\n",
       "        9.87371448,  9.84204655,  9.81045883,  9.77895121,  9.74752358,\n",
       "        9.71617584,  9.68490786,  9.65371954,  9.62261077,  9.59158144,\n",
       "        9.56063143,  9.52976064,  9.49896895,  9.46825625,  9.43762243,\n",
       "        9.40706738,  9.376591  ,  9.34619316,  9.31587376,  9.28563268,\n",
       "        9.25546983,  9.22538507,  9.19537831,  9.16544943,  9.13559833,\n",
       "        9.10582488,  9.07612898,  9.04651053,  9.01696939,  8.98750548,\n",
       "        8.95811867,  8.92880886,  8.89957593,  8.87041977,  8.84134028,\n",
       "        8.81233733,  8.78341082,  8.75456065,  8.72578669,  8.69708883,\n",
       "        8.66846698,  8.639921  ,  8.6114508 ,  8.58305627,  8.55473728,\n",
       "        8.52649374,  8.49832552,  8.47023253,  8.44221464,  8.41427174,\n",
       "        8.38640374,  8.35861051,  8.33089194,  8.30324792,  8.27567835,\n",
       "        8.24818311,  8.22076208,  8.19341517,  8.16614225,  8.13894322,\n",
       "        8.11181796,  8.08476637,  8.05778834,  8.03088374,  8.00405248,\n",
       "        7.97729444,  7.95060951,  7.92399757,  7.89745853,  7.87099226,\n",
       "        7.84459866,  7.81827761,  7.792029  ,  7.76585273,  7.73974868,\n",
       "        7.71371674,  7.6877568 ,  7.66186875,  7.63605248,  7.61030787,\n",
       "        7.58463482,  7.55903321,  7.53350294,  7.50804389,  7.48265595,\n",
       "        7.45733902,  7.43209297,  7.4069177 ,  7.3818131 ,  7.35677905,\n",
       "        7.33181546,  7.30692219,  7.28209915,  7.25734623,  7.2326633 ,\n",
       "        7.20805027,  7.18350701,  7.15903343,  7.1346294 ,  7.11029482,\n",
       "        7.08602957,  7.06183355,  7.03770664,  7.01364874,  6.98965973,\n",
       "        6.9657395 ,  6.94188793,  6.91810493,  6.89439038,  6.87074416,\n",
       "        6.84716617,  6.82365629,  6.80021442,  6.77684043,  6.75353424,\n",
       "        6.73029571,  6.70712474,  6.68402122,  6.66098504,  6.63801609,\n",
       "        6.61511425,  6.59227941,  6.56951147,  6.54681032,  6.52417583,\n",
       "        6.50160791,  6.47910643,  6.4566713 ,  6.43430239,  6.4119996 ,\n",
       "        6.38976282,  6.36759193,  6.34548682,  6.32344739,  6.30147352,\n",
       "        6.2795651 ,  6.25772202,  6.23594417,  6.21423143,  6.19258371,\n",
       "        6.17100088,  6.14948283,  6.12802946,  6.10664065,  6.0853163 ,\n",
       "        6.06405628,  6.0428605 ,  6.02172883,  6.00066117,  5.97965741,\n",
       "        5.95871743,  5.93784113,  5.9170284 ,  5.89627911,  5.87559317,\n",
       "        5.85497046,  5.83441087,  5.81391429,  5.79348061,  5.77310971,\n",
       "        5.75280149,  5.73255584,  5.71237264,  5.69225178,  5.67219315,\n",
       "        5.65219665,  5.63226215,  5.61238956,  5.59257875,  5.57282962,\n",
       "        5.55314205,  5.53351594,  5.51395118,  5.49444764,  5.47500523,\n",
       "        5.45562383,  5.43630333,  5.41704362,  5.39784459,  5.37870613,\n",
       "        5.35962812,  5.34061045,  5.32165302,  5.30275572,  5.28391842,\n",
       "        5.26514103,  5.24642343,  5.2277655 ,  5.20916715,  5.19062825,\n",
       "        5.1721487 ,  5.15372838,  5.13536718,  5.117065  ,  5.09882173,\n",
       "        5.08063724,  5.06251143,  5.04444419,  5.02643541,  5.00848498,\n",
       "        4.99059279,  4.97275872,  4.95498266,  4.93726451,  4.91960414,\n",
       "        4.90200146,  4.88445635,  4.8669687 ,  4.8495384 ,  4.83216533,\n",
       "        4.8148494 ,  4.79759047,  4.78038845,  4.76324322,  4.74615468,\n",
       "        4.72912271,  4.71214719,  4.69522803,  4.67836511,  4.66155831,\n",
       "        4.64480753,  4.62811265,  4.61147357,  4.59489017,  4.57836234,\n",
       "        4.56188997,  4.54547296,  4.52911118,  4.51280454,  4.4965529 ,\n",
       "        4.48035618,  4.46421425,  4.44812701,  4.43209434,  4.41611613,\n",
       "        4.40019227,  4.38432265,  4.36850716,  4.35274569,  4.33703813,\n",
       "        4.32138436,  4.30578428,  4.29023778,  4.27474473,  4.25930504,\n",
       "        4.24391859,  4.22858527,  4.21330497,  4.19807758,  4.18290299,\n",
       "        4.16778108,  4.15271175,  4.13769488,  4.12273036,  4.10781809,\n",
       "        4.09295795,  4.07814983,  4.06339362,  4.04868921,  4.03403648,\n",
       "        4.01943533,  4.00488565,  3.99038732,  3.97594023,  3.96154428,\n",
       "        3.94719935,  3.93290533,  3.9186621 ,  3.90446957,  3.89032761,\n",
       "        3.87623612,  3.86219499,  3.8482041 ,  3.83426334,  3.82037261,\n",
       "        3.80653179,  3.79274076,  3.77899943,  3.76530768,  3.75166539,\n",
       "        3.73807246,  3.72452877,  3.71103422,  3.6975887 ,  3.68419208,\n",
       "        3.67084427,  3.65754515,  3.6442946 ,  3.63109253,  3.61793881,\n",
       "        3.60483334,  3.591776  ,  3.57876669,  3.5658053 ,  3.5528917 ,\n",
       "        3.5400258 ,  3.52720748,  3.51443662,  3.50171313,  3.48903688,\n",
       "        3.47640777,  3.46382569,  3.45129052,  3.43880215,  3.42636048,\n",
       "        3.41396538,  3.40161676,  3.3893145 ,  3.37705848,  3.36484861,\n",
       "        3.35268476,  3.34056682,  3.32849469,  3.31646826,  3.3044874 ,\n",
       "        3.29255202,  3.280662  ,  3.26881723,  3.2570176 ,  3.24526299,\n",
       "        3.2335533 ,  3.22188842,  3.21026823,  3.19869262,  3.18716149,\n",
       "        3.17567472,  3.1642322 ,  3.15283382,  3.14147947,  3.13016903,\n",
       "        3.11890241,  3.10767947,  3.09650013,  3.08536425,  3.07427174,\n",
       "        3.06322248,  3.05221636,  3.04125328,  3.03033311,  3.01945574,\n",
       "        3.00862108,  2.997829  ,  2.98707939,  2.97637215,  2.96570716,\n",
       "        2.95508431,  2.9445035 ,  2.9339646 ,  2.92346751,  2.91301212,\n",
       "        2.90259832,  2.89222599,  2.88189502,  2.87160531,  2.86135675,\n",
       "        2.85114921,  2.8409826 ,  2.83085679,  2.82077169,  2.81072717,\n",
       "        2.80072313,  2.79075945,  2.78083603,  2.77095275,  2.76110951,\n",
       "        2.75130619,  2.74154267,  2.73181886,  2.72213464,  2.71248989,\n",
       "        2.70288451,  2.69331839,  2.68379141,  2.67430347,  2.66485445,\n",
       "        2.65544424,  2.64607273,  2.63673981,  2.62744537,  2.6181893 ,\n",
       "        2.60897148,  2.59979181,  2.59065018,  2.58154646,  2.57248057,\n",
       "        2.56345237,  2.55446176,  2.54550864,  2.53659288,  2.52771438,\n",
       "        2.51887303,  2.51006871,  2.50130132,  2.49257074,  2.48387687,\n",
       "        2.47521959,  2.46659879,  2.45801435,  2.44946618,  2.44095416,\n",
       "        2.43247817,  2.4240381 ,  2.41563386,  2.40726531,  2.39893236,\n",
       "        2.39063489,  2.3823728 ,  2.37414596,  2.36595427,  2.35779762,\n",
       "        2.34967589,  2.34158899,  2.33353678,  2.32551917,  2.31753605,\n",
       "        2.30958729,  2.3016728 ,  2.29379246,  2.28594615,  2.27813377,\n",
       "        2.27035522,  2.26261036,  2.2548991 ,  2.24722133,  2.23957693,\n",
       "        2.23196579,  2.2243878 ,  2.21684285,  2.20933083,  2.20185163,\n",
       "        2.19440513,  2.18699124,  2.17960982,  2.17226078,  2.16494401,\n",
       "        2.15765938,  2.1504068 ,  2.14318615,  2.13599731,  2.12884018,\n",
       "        2.12171466,  2.11462061,  2.10755794,  2.10052654,  2.09352629,\n",
       "        2.08655708,  2.0796188 ,  2.07271134,  2.0658346 ,  2.05898844,\n",
       "        2.05217278,  2.04538749,  2.03863247,  2.0319076 ,  2.02521278,\n",
       "        2.01854788,  2.01191281,  2.00530745,  1.99873169,  1.99218541,\n",
       "        1.98566852,  1.97918088,  1.97272241,  1.96629298,  1.95989248,\n",
       "        1.9535208 ,  1.94717783,  1.94086347,  1.93457759,  1.92832009,\n",
       "        1.92209086,  1.91588979,  1.90971676,  1.90357166,  1.89745439,\n",
       "        1.89136483,  1.88530287,  1.8792684 ,  1.87326131,  1.86728149,\n",
       "        1.86132882,  1.85540321,  1.84950452,  1.84363266,  1.83778752,\n",
       "        1.83196898,  1.82617692,  1.82041125,  1.81467185,  1.8089586 ,\n",
       "        1.80327141,  1.79761015,  1.79197471,  1.78636499,  1.78078087,\n",
       "        1.77522224,  1.769689  ,  1.76418102,  1.75869821,  1.75324044,\n",
       "        1.74780761,  1.74239961,  1.73701632,  1.73165764,  1.72632345,\n",
       "        1.72101364,  1.7157281 ,  1.71046672,  1.7052294 ,  1.70001601,\n",
       "        1.69482645,  1.6896606 ,  1.68451836,  1.67939961,  1.67430425,\n",
       "        1.66923216,  1.66418323,  1.65915735,  1.65415441,  1.6491743 ,\n",
       "        1.64421691,  1.63928212,  1.63436983,  1.62947992,  1.62461229,\n",
       "        1.61976682,  1.61494339,  1.61014191,  1.60536226,  1.60060433,\n",
       "        1.59586801,  1.59115318,  1.58645973,  1.58178756,  1.57713656,\n",
       "        1.57250661,  1.56789759,  1.56330941,  1.55874195,  1.5541951 ,\n",
       "        1.54966874,  1.54516277,  1.54067708,  1.53621155,  1.53176607,\n",
       "        1.52734054,  1.52293483,  1.51854885,  1.51418248,  1.5098356 ,\n",
       "        1.50550812,  1.50119991,  1.49691086,  1.49264087,  1.48838982,\n",
       "        1.48415761,  1.47994412,  1.47574923,  1.47157285,  1.46741486,\n",
       "        1.46327514,  1.45915359,  1.45505009,  1.45096454,  1.44689683,\n",
       "        1.44284683,  1.43881445,  1.43479956,  1.43080207,  1.42682186,\n",
       "        1.42285881,  1.41891282,  1.41498377,  1.41107156,  1.40717608,\n",
       "        1.4032972 ,  1.39943483,  1.39558885,  1.39175914,  1.38794561,\n",
       "        1.38414813,  1.3803666 ,  1.37660091,  1.37285094,  1.36911658,\n",
       "        1.36539773,  1.36169427,  1.35800608,  1.35433307,  1.35067512,\n",
       "        1.34703211,  1.34340394,  1.3397905 ,  1.33619167,  1.33260734,\n",
       "        1.32903741,  1.32548176,  1.32194028,  1.31841286,  1.31489939,\n",
       "        1.31139975,  1.30791384,  1.30444155,  1.30098276,  1.29753737,\n",
       "        1.29410526,  1.29068632,  1.28728044,  1.28388751,  1.28050742,\n",
       "        1.27714005,  1.27378531,  1.27044306,  1.26711322,  1.26379566,\n",
       "        1.26049027,  1.25719694,  1.25391556,  1.25064602,  1.24738821,\n",
       "        1.24414202,  1.24090734,  1.23768405,  1.23447204,  1.23127121,\n",
       "        1.22808144,  1.22490263,  1.22173465,  1.21857741,  1.21543078,\n",
       "        1.21229466,  1.20916894,  1.2060535 ,  1.20294824,  1.19985304,\n",
       "        1.1967678 ,  1.19369239,  1.19062672,  1.18757067,  1.18452412,\n",
       "        1.18148697,  1.17845911,  1.17544043,  1.17243081,  1.16943015,\n",
       "        1.16643832,  1.16345523,  1.16048076,  1.1575148 ,  1.15455724,\n",
       "        1.15160797,  1.14866687,  1.14573384,  1.14280876,  1.13989153,\n",
       "        1.13698203,  1.13408015,  1.13118579,  1.12829882,  1.12541914,\n",
       "        1.12254664,  1.11968121,  1.11682273,  1.1139711 ,  1.1111262 ,\n",
       "        1.10828792,  1.10545616,  1.10263079,  1.09981172,  1.09699882,\n",
       "        1.094192  ,  1.09139113,  1.0885961 ,  1.08580682,  1.08302315,\n",
       "        1.080245  ,  1.07747225,  1.07470479,  1.07194251,  1.0691853 ,\n",
       "        1.06643305,  1.06368564,  1.06094297,  1.05820492,  1.05547139,\n",
       "        1.05274227,  1.05001743,  1.04729677,  1.04458019,  1.04186756,\n",
       "        1.03915878,  1.03645374,  1.03375233,  1.03105443,  1.02835993,\n",
       "        1.02566873,  1.02298071,  1.02029576,  1.01761377,  1.01493462,\n",
       "        1.01225822,  1.00958444,  1.00691318,  1.00424433,  1.00157777,\n",
       "        0.99891339,  0.99625108,  0.99359074,  0.99093224,  0.98827548,\n",
       "        0.98562036,  0.98296674,  0.98031454,  0.97766363,  0.9750139 ,\n",
       "        0.97236525,  0.96971756,  0.96707072,  0.96442462,  0.96177915,\n",
       "        0.95913419,  0.95648965,  0.9538454 ,  0.95120133,  0.94855734,\n",
       "        0.94591332,  0.94326914,  0.94062471,  0.9379799 ,  0.93533462,\n",
       "        0.93268874,  0.93004216,  0.92739477,  0.92474645,  0.92209709,\n",
       "        0.91944659,  0.91679483,  0.9141417 ,  0.9114871 ,  0.9088309 ,\n",
       "        0.906173  ,  0.90351328,  0.90085165,  0.89818797,  0.89552216,\n",
       "        0.89285408,  0.89018364,  0.88751072,  0.8848352 ,  0.88215699,\n",
       "        0.87947597,  0.87679202,  0.87410504,  0.87141491,  0.86872153,\n",
       "        0.86602478,  0.86332456,  0.86062074,  0.85791323,  0.8552019 ,\n",
       "        0.85248666,  0.84976738,  0.84704395,  0.84431627,  0.84158423,\n",
       "        0.83884771,  0.8361066 ,  0.83336079,  0.83061017,  0.82785464,\n",
       "        0.82509407,  0.82232835,  0.81955739,  0.81678106,  0.81399925,\n",
       "        0.81121186,  0.80841876,  0.80561986,  0.80281505,  0.80000419,\n",
       "        0.7971872 ,  0.79436396,  0.79153435,  0.78869827,  0.7858556 ,\n",
       "        0.78300623,  0.78015006,  0.77728697,  0.77441684,  0.77153958,\n",
       "        0.76865507,  0.76576319,  0.76286384,  0.7599569 ,  0.75704227,\n",
       "        0.75411984,  0.75118948,  0.7482511 ,  0.74530457,  0.7423498 ,\n",
       "        0.73938666,  0.73641506,  0.73343486,  0.73044598,  0.72744828,\n",
       "        0.72444168,  0.72142604,  0.71840126,  0.71536724,  0.71232385,\n",
       "        0.709271  ,  0.70620856,  0.70313642,  0.70005449,  0.69696263,\n",
       "        0.69386075,  0.69074874,  0.68762647,  0.68449384,  0.68135075,\n",
       "        0.67819707,  0.6750327 ,  0.67185753,  0.66867144,  0.66547432,\n",
       "        0.66226607,  0.65904657,  0.65581572,  0.65257339,  0.64931948,\n",
       "        0.64605389,  0.64277648,  0.63948717,  0.63618583,  0.63287236,\n",
       "        0.62954664,  0.62620856,  0.62285801,  0.61949488,  0.61611907,\n",
       "        0.61273045,  0.60932892,  0.60591436,  0.60248667,  0.59904574,\n",
       "        0.59559145,  0.59212369,  0.58864235,  0.58514733,  0.5816385 ,\n",
       "        0.57811576,  0.574579  ,  0.57102811,  0.56746297,  0.56388348,\n",
       "        0.56028951,  0.55668098,  0.55305775,  0.54941972,  0.54576679,\n",
       "        0.54209883,  0.53841574,  0.53471741,  0.53100372,  0.52727457,\n",
       "        0.52352984,  0.51976942,  0.5159932 ,  0.51220108,  0.50839293,\n",
       "        0.50456866,  0.50072814,  0.49687127,  0.49299793,  0.48910802,\n",
       "        0.48520142,  0.48127802,  0.47733772,  0.47338039,  0.46940594])"
      ]
     },
     "execution_count": 42,
     "metadata": {},
     "output_type": "execute_result"
    }
   ],
   "source": [
    "smoothing = 3\n",
    "smoothCurve(data, 'D50', smoothing)"
   ]
  },
  {
   "cell_type": "markdown",
   "id": "9771df4f",
   "metadata": {},
   "source": [
    "The next lines of code will do the smoothing for each of the percentiles of the chosen measurand at the same time and save the output curves in the array sC:"
   ]
  },
  {
   "cell_type": "code",
   "execution_count": 48,
   "id": "bab0476b",
   "metadata": {},
   "outputs": [
    {
     "data": {
      "image/png": "[encoded data removed]",
      "text/plain": [
       "<Figure size 432x288 with 1 Axes>"
      ]
     },
     "metadata": {
      "needs_background": "light"
     },
     "output_type": "display_data"
    },
    {
     "data": {
      "image/png": "[encoded data removed]",
      "text/plain": [
       "<Figure size 432x288 with 1 Axes>"
      ]
     },
     "metadata": {
      "needs_background": "light"
     },
     "output_type": "display_data"
    },
    {
     "data": {
      "image/png": "[encoded data removed]",
      "text/plain": [
       "<Figure size 432x288 with 1 Axes>"
      ]
     },
     "metadata": {
      "needs_background": "light"
     },
     "output_type": "display_data"
    },
    {
     "data": {
      "image/png": "[encoded data removed]",
      "text/plain": [
       "<Figure size 432x288 with 1 Axes>"
      ]
     },
     "metadata": {
      "needs_background": "light"
     },
     "output_type": "display_data"
    },
    {
     "data": {
      "image/png": "[encoded data removed]",
      "text/plain": [
       "<Figure size 432x288 with 1 Axes>"
      ]
     },
     "metadata": {
      "needs_background": "light"
     },
     "output_type": "display_data"
    }
   ],
   "source": [
    "smo_list = [19, 8, 3, 2, 4]\n",
    "perc=['D10', 'D25', 'D50', 'D75', 'D90']\n",
    "sC = [0]*len(perc)\n",
    "\n",
    "for i, p in enumerate(perc):\n",
    "    sC[i] = smoothCurve(data, p, smo_list[i])"
   ]
  },
  {
   "cell_type": "markdown",
   "id": "8bab810a",
   "metadata": {},
   "source": [
    "# 3 Determining N_m from the spline curve"
   ]
  },
  {
   "cell_type": "markdown",
   "id": "6e15a87d",
   "metadata": {},
   "source": [
    "Define the function to calculate N_m for a predefined precision (=U_N) based on the smooth spline curve:"
   ]
  },
  {
   "cell_type": "code",
   "execution_count": 49,
   "id": "5d23555d",
   "metadata": {},
   "outputs": [],
   "source": [
    "def det_Nm(precision, ys):\n",
    "    \n",
    "    # if the required precision is already reached for less then 10 particles, return NaN\n",
    "    if ys[0] < precision:\n",
    "        #return 10  # return 10 instead of NaN when Nm is actually lower than 10  --> for Nm vs. IQR/d50 plot\n",
    "        return np.nan\n",
    "    \n",
    "    # otherwise calculate at which N the curve intersects the required value of the precision\n",
    "    else:\n",
    "        idx = np.argwhere(np.diff(np.sign(precision - ys))).flatten()\n",
    "        \n",
    "        if not idx.size > 0:\n",
    "            return np.nan\n",
    "        else:\n",
    "            idx = idx[0]\n",
    "            Nm_lin=xs[idx]\n",
    "            Nm=m.ceil(10**Nm_lin)\n",
    "            #print(Nm)\n",
    "            return Nm"
   ]
  },
  {
   "cell_type": "markdown",
   "id": "1ac126d4",
   "metadata": {},
   "source": [
    "Define a set of U_N values for which you want to calculate N_m and initiate a dataframe to save the N_m values:"
   ]
  },
  {
   "cell_type": "code",
   "execution_count": 50,
   "id": "01639fc8",
   "metadata": {},
   "outputs": [],
   "source": [
    "UN_out=[40, 30, 20, 15, 10, 8, 6, 5, 4, 3, 2, 1]\n",
    "df_Nm = pd.DataFrame()\n",
    "df_Nm['U_N']=UN_out"
   ]
  },
  {
   "cell_type": "markdown",
   "id": "45af4a41",
   "metadata": {},
   "source": [
    "Apply the det_Nm function for each element of the U_N array and for each of the percentiles. Save the N_m dataframe to a csv file:"
   ]
  },
  {
   "cell_type": "code",
   "execution_count": 51,
   "id": "67f32ef9",
   "metadata": {},
   "outputs": [
    {
     "name": "stdout",
     "output_type": "stream",
     "text": [
      "[nan, 15, 54, 108, 260, 413, 738, 1072, 1692, 3024, 6514, nan]\n",
      "[nan, nan, 14, 27, 67, 105, 183, 257, 380, 617, 1165, 2881]\n",
      "[nan, nan, nan, nan, 23, 36, 64, 91, 140, 241, 541, 2982]\n",
      "[nan, nan, nan, nan, 17, 27, 47, 67, 105, 214, 830, 9078]\n",
      "[nan, nan, nan, nan, 19, 31, 58, 85, 138, 266, 953, 9661]\n"
     ]
    }
   ],
   "source": [
    "for i, p in enumerate(perc):\n",
    "    c = sC[i]\n",
    "    N=[]\n",
    "    for U in UN_out:\n",
    "        N.append(det_Nm(U, c))\n",
    "    print(N)\n",
    "    df_Nm[p]=N"
   ]
  },
  {
   "cell_type": "code",
   "execution_count": 52,
   "id": "bf3ace51",
   "metadata": {},
   "outputs": [],
   "source": [
    "df_Nm.to_csv('Nm_table_'+measurand+'.csv')"
   ]
  },
  {
   "cell_type": "markdown",
   "id": "7d855982",
   "metadata": {},
   "source": [
    "# 4 Output plot(s)"
   ]
  },
  {
   "cell_type": "markdown",
   "id": "22f361e2",
   "metadata": {},
   "source": [
    "## 4.1 N_m vs U_N"
   ]
  },
  {
   "cell_type": "markdown",
   "id": "67d3691e",
   "metadata": {},
   "source": [
    "Set the measurand for which you wanna produce the plot:"
   ]
  },
  {
   "cell_type": "code",
   "execution_count": 53,
   "id": "eb381925",
   "metadata": {},
   "outputs": [],
   "source": [
    "measurand = 'Fmin'"
   ]
  },
  {
   "cell_type": "markdown",
   "id": "248606db",
   "metadata": {},
   "source": [
    "Read in the N_m data generated in section 3. If needed first go the right directory:"
   ]
  },
  {
   "cell_type": "code",
   "execution_count": 54,
   "id": "5f266d26",
   "metadata": {},
   "outputs": [
    {
     "data": {
      "text/plain": [
       "'C:\\\\Users\\\\ChWo3222\\\\Desktop\\\\MyNotebooks\\\\NumPar\\\\MyMaterial_NumPar\\\\Fmin_output'"
      ]
     },
     "execution_count": 54,
     "metadata": {},
     "output_type": "execute_result"
    }
   ],
   "source": [
    "os.getcwd()\n",
    "#os.chdir('..')"
   ]
  },
  {
   "cell_type": "code",
   "execution_count": 55,
   "id": "45c84a30",
   "metadata": {},
   "outputs": [],
   "source": [
    "plot_data = pd.read_csv('Nm_table_'+measurand+'.csv', header=[0], index_col=0)"
   ]
  },
  {
   "cell_type": "code",
   "execution_count": 56,
   "id": "c1a83b2c",
   "metadata": {},
   "outputs": [
    {
     "data": {
      "text/html": [
       "<div>\n",
       "<style scoped>\n",
       "    .dataframe tbody tr th:only-of-type {\n",
       "        vertical-align: middle;\n",
       "    }\n",
       "\n",
       "    .dataframe tbody tr th {\n",
       "        vertical-align: top;\n",
       "    }\n",
       "\n",
       "    .dataframe thead th {\n",
       "        text-align: right;\n",
       "    }\n",
       "</style>\n",
       "<table border=\"1\" class=\"dataframe\">\n",
       "  <thead>\n",
       "    <tr style=\"text-align: right;\">\n",
       "      <th></th>\n",
       "      <th>U_N</th>\n",
       "      <th>D10</th>\n",
       "      <th>D25</th>\n",
       "      <th>D50</th>\n",
       "      <th>D75</th>\n",
       "      <th>D90</th>\n",
       "    </tr>\n",
       "  </thead>\n",
       "  <tbody>\n",
       "    <tr>\n",
       "      <th>0</th>\n",
       "      <td>40</td>\n",
       "      <td>NaN</td>\n",
       "      <td>NaN</td>\n",
       "      <td>NaN</td>\n",
       "      <td>NaN</td>\n",
       "      <td>NaN</td>\n",
       "    </tr>\n",
       "    <tr>\n",
       "      <th>1</th>\n",
       "      <td>30</td>\n",
       "      <td>15.0</td>\n",
       "      <td>NaN</td>\n",
       "      <td>NaN</td>\n",
       "      <td>NaN</td>\n",
       "      <td>NaN</td>\n",
       "    </tr>\n",
       "    <tr>\n",
       "      <th>2</th>\n",
       "      <td>20</td>\n",
       "      <td>54.0</td>\n",
       "      <td>14.0</td>\n",
       "      <td>NaN</td>\n",
       "      <td>NaN</td>\n",
       "      <td>NaN</td>\n",
       "    </tr>\n",
       "    <tr>\n",
       "      <th>3</th>\n",
       "      <td>15</td>\n",
       "      <td>108.0</td>\n",
       "      <td>27.0</td>\n",
       "      <td>NaN</td>\n",
       "      <td>NaN</td>\n",
       "      <td>NaN</td>\n",
       "    </tr>\n",
       "    <tr>\n",
       "      <th>4</th>\n",
       "      <td>10</td>\n",
       "      <td>260.0</td>\n",
       "      <td>67.0</td>\n",
       "      <td>23.0</td>\n",
       "      <td>17.0</td>\n",
       "      <td>19.0</td>\n",
       "    </tr>\n",
       "    <tr>\n",
       "      <th>5</th>\n",
       "      <td>8</td>\n",
       "      <td>413.0</td>\n",
       "      <td>105.0</td>\n",
       "      <td>36.0</td>\n",
       "      <td>27.0</td>\n",
       "      <td>31.0</td>\n",
       "    </tr>\n",
       "    <tr>\n",
       "      <th>6</th>\n",
       "      <td>6</td>\n",
       "      <td>738.0</td>\n",
       "      <td>183.0</td>\n",
       "      <td>64.0</td>\n",
       "      <td>47.0</td>\n",
       "      <td>58.0</td>\n",
       "    </tr>\n",
       "    <tr>\n",
       "      <th>7</th>\n",
       "      <td>5</td>\n",
       "      <td>1072.0</td>\n",
       "      <td>257.0</td>\n",
       "      <td>91.0</td>\n",
       "      <td>67.0</td>\n",
       "      <td>85.0</td>\n",
       "    </tr>\n",
       "    <tr>\n",
       "      <th>8</th>\n",
       "      <td>4</td>\n",
       "      <td>1692.0</td>\n",
       "      <td>380.0</td>\n",
       "      <td>140.0</td>\n",
       "      <td>105.0</td>\n",
       "      <td>138.0</td>\n",
       "    </tr>\n",
       "    <tr>\n",
       "      <th>9</th>\n",
       "      <td>3</td>\n",
       "      <td>3024.0</td>\n",
       "      <td>617.0</td>\n",
       "      <td>241.0</td>\n",
       "      <td>214.0</td>\n",
       "      <td>266.0</td>\n",
       "    </tr>\n",
       "    <tr>\n",
       "      <th>10</th>\n",
       "      <td>2</td>\n",
       "      <td>6514.0</td>\n",
       "      <td>1165.0</td>\n",
       "      <td>541.0</td>\n",
       "      <td>830.0</td>\n",
       "      <td>953.0</td>\n",
       "    </tr>\n",
       "    <tr>\n",
       "      <th>11</th>\n",
       "      <td>1</td>\n",
       "      <td>NaN</td>\n",
       "      <td>2881.0</td>\n",
       "      <td>2982.0</td>\n",
       "      <td>9078.0</td>\n",
       "      <td>9661.0</td>\n",
       "    </tr>\n",
       "  </tbody>\n",
       "</table>\n",
       "</div>"
      ],
      "text/plain": [
       "    U_N     D10     D25     D50     D75     D90\n",
       "0    40     NaN     NaN     NaN     NaN     NaN\n",
       "1    30    15.0     NaN     NaN     NaN     NaN\n",
       "2    20    54.0    14.0     NaN     NaN     NaN\n",
       "3    15   108.0    27.0     NaN     NaN     NaN\n",
       "4    10   260.0    67.0    23.0    17.0    19.0\n",
       "5     8   413.0   105.0    36.0    27.0    31.0\n",
       "6     6   738.0   183.0    64.0    47.0    58.0\n",
       "7     5  1072.0   257.0    91.0    67.0    85.0\n",
       "8     4  1692.0   380.0   140.0   105.0   138.0\n",
       "9     3  3024.0   617.0   241.0   214.0   266.0\n",
       "10    2  6514.0  1165.0   541.0   830.0   953.0\n",
       "11    1     NaN  2881.0  2982.0  9078.0  9661.0"
      ]
     },
     "execution_count": 56,
     "metadata": {},
     "output_type": "execute_result"
    }
   ],
   "source": [
    "plot_data"
   ]
  },
  {
   "cell_type": "markdown",
   "id": "5f4a019a",
   "metadata": {},
   "source": [
    "Plot the N_m vs. U_N data on a log-log plot for each of the percentiles. You will see that a linear relation is obtained. Use the polyfit function to fit a first degree polynomial to the data. The relation can be used to estimate the amount of particles you should measure of your material to assure a certain precision of the measurement."
   ]
  },
  {
   "cell_type": "code",
   "execution_count": 57,
   "id": "6cc5d764",
   "metadata": {},
   "outputs": [
    {
     "data": {
      "image/png": "[encoded data removed]",
      "text/plain": [
       "<Figure size 432x288 with 1 Axes>"
      ]
     },
     "metadata": {
      "needs_background": "light"
     },
     "output_type": "display_data"
    }
   ],
   "source": [
    "# extract the columns names (=percentiles) of the plot_data dataframe \n",
    "key_list = list(plot_data)\n",
    "key_list.remove('U_N')\n",
    "\n",
    "# set the x values for the polyfit and define the colors to be used for the plotting of the different percentiles\n",
    "x_fit = np.arange(-1, 3)\n",
    "color = ['C0', 'C1', 'C2', 'C3', 'C4']\n",
    "fig, ax = plt.subplots()\n",
    "\n",
    "# loop through the different percentiles and colors\n",
    "for k, c in zip(key_list, color):\n",
    "    # split the dataframe up in its columns and remove the NaN rows\n",
    "    df_sub = pd.DataFrame()\n",
    "    df_sub['U_N'] = plot_data['U_N']\n",
    "    df_sub['Nm'] = plot_data[k]\n",
    "    df_sub = df_sub.dropna()\n",
    "    \n",
    "    # plot the data points\n",
    "    plt.plot(df_sub['U_N'], df_sub['Nm'], ls='None', marker ='s', color=c, label=k)\n",
    "    \n",
    "    # perform the linear fit using polyfit\n",
    "    if len(df_sub)>1:\n",
    "        z = np.polyfit(np.log10(df_sub['U_N']), np.log10(df_sub['Nm']), 1)\n",
    "        p = np.poly1d(z)\n",
    "        plt.plot(10.0**(x_fit), 10.0**(p(x_fit)), '-', color=c)\n",
    "        \n",
    "\n",
    "# plot settings        \n",
    "plt.xlabel(r'$U_{\\rm N}$ ($\\%$)', fontsize=20)\n",
    "plt.ylabel(r'$N_{\\rm m}$', fontsize=20)\n",
    "plt.xticks(fontsize=18)\n",
    "plt.yticks(fontsize=18)\n",
    "plt.xscale('log')\n",
    "plt.yscale('log')\n",
    "plt.xlim(1,40)\n",
    "plt.ylim(10,2*10**4)\n",
    "ax.xaxis.set_major_formatter(ScalarFormatter())\n",
    "ax.set_xticks([1,2,5,10, 20, 40])\n",
    "plt.legend(fontsize = 14)\n",
    "plt.tight_layout()\n",
    "\n",
    "# save the figure\n",
    "plt.savefig('NumPar_vs_UN_'+measurand+'.png', dpi=200)\n"
   ]
  },
  {
   "cell_type": "code",
   "execution_count": null,
   "id": "69b72e32",
   "metadata": {},
   "outputs": [],
   "source": []
  }
 ],
 "metadata": {
  "kernelspec": {
   "display_name": "Python 3 (ipykernel)",
   "language": "python",
   "name": "python3"
  },
  "language_info": {
   "codemirror_mode": {
    "name": "ipython",
    "version": 3
   },
   "file_extension": ".py",
   "mimetype": "text/x-python",
   "name": "python",
   "nbconvert_exporter": "python",
   "pygments_lexer": "ipython3",
   "version": "3.9.7"
  }
 },
 "nbformat": 4,
 "nbformat_minor": 5
}
