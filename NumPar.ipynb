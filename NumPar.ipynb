{
 "cells": [
  {
   "cell_type": "markdown",
   "id": "16a00003",
   "metadata": {},
   "source": [
    "# 1 Sampling from large particle dataset"
   ]
  },
  {
   "cell_type": "markdown",
   "id": "53fe0190",
   "metadata": {},
   "source": [
    "Import the necessary libraries:"
   ]
  },
  {
   "cell_type": "code",
   "execution_count": null,
   "id": "8c717c36",
   "metadata": {},
   "outputs": [],
   "source": [
    "import numpy as np\n",
    "import pandas as pd\n",
    "import matplotlib.pyplot as plt\n",
    "from scipy import stats\n",
    "import os\n",
    "import seaborn as sns\n",
    "from tqdm import tqdm\n",
    "import math as m\n",
    "from scipy.interpolate import UnivariateSpline\n",
    "from scipy.stats import gaussian_kde\n",
    "from scipy.integrate import quad\n",
    "from matplotlib.ticker import ScalarFormatter"
   ]
  },
  {
   "cell_type": "markdown",
   "id": "7897ff18",
   "metadata": {},
   "source": [
    "Set the background color of figures to white as default when saving:"
   ]
  },
  {
   "cell_type": "code",
   "execution_count": 80,
   "id": "398b414d",
   "metadata": {},
   "outputs": [],
   "source": [
    "plt.rcParams['savefig.facecolor']='white'"
   ]
  },
  {
   "cell_type": "markdown",
   "id": "c1e0796d",
   "metadata": {},
   "source": [
    "## 1.1 Read in and prepare the data"
   ]
  },
  {
   "cell_type": "markdown",
   "id": "f7bb1324",
   "metadata": {},
   "source": [
    "Read in the particle data stored as csv file (output of ImageJ-ParticleSizer analysis) and save them as dataframe."
   ]
  },
  {
   "cell_type": "markdown",
   "id": "f88c310f",
   "metadata": {},
   "source": [
    "In case of one csv file:"
   ]
  },
  {
   "cell_type": "code",
   "execution_count": 2,
   "id": "ec1b7215",
   "metadata": {},
   "outputs": [
    {
     "name": "stdout",
     "output_type": "stream",
     "text": [
      "              Frame  Label       X       Y    Area  Area Conv. Hull   Peri.  \\\n",
      "0          1      1      1  2.3694  0.0134  0.0001           0.0001  0.0384   \n",
      "1          2      1      2  0.5286  0.0149  0.0002           0.0002  0.0493   \n",
      "2          3      1      3  0.6986  0.0175  0.0002           0.0003  0.0551   \n",
      "3          4      1      4  2.0906  0.0200  0.0003           0.0003  0.0596   \n",
      "4          5      1      5  0.8212  0.0220  0.0004           0.0004  0.0680   \n",
      "...      ...    ...    ...     ...     ...     ...              ...     ...   \n",
      "11648  11649     10   1341  2.3250  2.4173  0.0002           0.0002  0.0479   \n",
      "11649  11650     10   1342  0.4628  2.4292  0.0002           0.0002  0.0503   \n",
      "11650  11651     10   1343  1.0229  2.4302  0.0002           0.0002  0.0468   \n",
      "11651  11652     10   1344  2.3205  2.4322  0.0002           0.0002  0.0530   \n",
      "11652  11653     10   1345  0.1563  2.4352  0.0003           0.0003  0.0599   \n",
      "\n",
      "       Peri. Conv. Hull   Feret  ...    Circ.  Elong.  Convexity  Solidity  \\\n",
      "0                0.0396  0.0146  ...  12.4758  0.5611        1.0    0.9851   \n",
      "1                0.0498  0.0169  ...  12.4258  0.2700        1.0    0.9698   \n",
      "2                0.0557  0.0199  ...  12.2427  0.4466        1.0    0.9761   \n",
      "3                0.0603  0.0208  ...  12.2619  0.3561        1.0    0.9736   \n",
      "4                0.0687  0.0233  ...  12.2109  0.3262        1.0    0.9806   \n",
      "...                 ...     ...  ...      ...     ...        ...       ...   \n",
      "11648            0.0489  0.0178  ...  12.2890  0.5003        1.0    0.9738   \n",
      "11649            0.0513  0.0183  ...  11.9374  0.4097        1.0    0.9785   \n",
      "11650            0.0474  0.0163  ...  12.3854  0.2548        1.0    0.9667   \n",
      "11651            0.0539  0.0180  ...  11.9152  0.3239        1.0    0.9763   \n",
      "11652            0.0608  0.0207  ...  12.3230  0.2803        1.0    0.9784   \n",
      "\n",
      "       Num. of Holes  Thinnes Rt.  Contour Temp.  Orientation  Fract. Dim.  \\\n",
      "0                  0          1.0         0.1664      96.3709       1.3852   \n",
      "1                  0          1.0         0.1317     116.5658       1.5569   \n",
      "2                  0          1.0         0.1320     102.7316       1.5302   \n",
      "3                  0          1.0         0.1329       6.8236       1.5880   \n",
      "4                  0          1.0         0.1293     164.0536       1.6142   \n",
      "...              ...          ...            ...          ...          ...   \n",
      "11648              0          1.0         0.1515       9.0519       1.5419   \n",
      "11649              0          1.0         0.1498     157.5311       1.5841   \n",
      "11650              0          1.0         0.1366     125.1486       1.5147   \n",
      "11651              0          1.0         0.1449     151.4017       1.6215   \n",
      "11652              0          1.0         0.1385     143.6518       1.5334   \n",
      "\n",
      "       Fract. Dim. Goodness  \n",
      "0                    0.9612  \n",
      "1                    0.9658  \n",
      "2                    0.9921  \n",
      "3                    0.9902  \n",
      "4                    0.9960  \n",
      "...                     ...  \n",
      "11648                0.9630  \n",
      "11649                0.9655  \n",
      "11650                0.9637  \n",
      "11651                0.9652  \n",
      "11652                0.9915  \n",
      "\n",
      "[11653 rows x 27 columns]\n"
     ]
    }
   ],
   "source": [
    "frame = pd.read_csv('ParticleSizer_data.csv')\n",
    "print (frame)"
   ]
  },
  {
   "cell_type": "markdown",
   "id": "8c46e738",
   "metadata": {},
   "source": [
    "In case you want to combine data from multiple csv files:"
   ]
  },
  {
   "cell_type": "code",
   "execution_count": null,
   "id": "7aab920f",
   "metadata": {},
   "outputs": [],
   "source": [
    "frame = pd.DataFrame()\n",
    "list_ = []\n",
    "for csvFilename in os.listdir(os.getcwd()):\n",
    "    if not csvFilename.endswith('.csv'):\n",
    "        continue\n",
    "    df = pd.read_csv(csvFilename)\n",
    "    list_.append(df)\n",
    "frame = pd.concat(list_)\n",
    "print (frame)"
   ]
  },
  {
   "cell_type": "markdown",
   "id": "0d86b2a2",
   "metadata": {},
   "source": [
    "Clean the dataframe, i.e. delete rows from frame which contain unreadable data ('not a number') or for which aspect ratio is infinity. Unify the column names of interest and create a new dataframe with only those:"
   ]
  },
  {
   "cell_type": "code",
   "execution_count": 3,
   "id": "d3685a4d",
   "metadata": {},
   "outputs": [],
   "source": [
    "frame.rename(columns={'Min. Feret': 'Fmin'}, inplace=True)\n",
    "frame.rename(columns={'Feret': 'Fmax'}, inplace=True)\n",
    "frame.rename(columns={'Area equivalent circle diameter': 'ECD'}, inplace=True)\n",
    "frame.rename(columns={'Maximum inscriped circle diameter': 'MICD'}, inplace=True)\n",
    "frame.rename(columns={'Aspect Ratio': 'AR'}, inplace=True)"
   ]
  },
  {
   "cell_type": "code",
   "execution_count": 4,
   "id": "6c6dbf8f",
   "metadata": {},
   "outputs": [],
   "source": [
    "frame = frame.dropna()\n",
    "frame = frame[frame['AR'] != m.inf]"
   ]
  },
  {
   "cell_type": "code",
   "execution_count": 5,
   "id": "ea5c920f",
   "metadata": {},
   "outputs": [],
   "source": [
    "columns_to_keep = ['Fmin', 'Fmax', 'ECD', 'MICD', 'AR']  \n",
    "frame=frame[columns_to_keep]"
   ]
  },
  {
   "cell_type": "markdown",
   "id": "97b06152",
   "metadata": {},
   "source": [
    "We want to output the data in unit of nanometer. In case the data was in a different unit (e.g. micrometer) convert the columns of interest to nanometer (e.g. x1000)."
   ]
  },
  {
   "cell_type": "code",
   "execution_count": 6,
   "id": "8ca24c0a",
   "metadata": {},
   "outputs": [],
   "source": [
    "frame['Fmin'] = frame['Fmin'].multiply(1000)\n",
    "frame['Fmax'] = frame['Fmax'].multiply(1000)\n",
    "frame['ECD'] = frame['ECD'].multiply(1000)\n",
    "frame['MICD'] = frame['MICD'].multiply(1000)"
   ]
  },
  {
   "cell_type": "markdown",
   "id": "cfc4ff84",
   "metadata": {},
   "source": [
    "## 1.2 Full dataset statistics + histogram"
   ]
  },
  {
   "cell_type": "markdown",
   "id": "6ca94502",
   "metadata": {},
   "source": [
    "Calculate the statistics of the Fmin, Fmax, ECD, MICD and AR measurands and write to a file:"
   ]
  },
  {
   "cell_type": "code",
   "execution_count": null,
   "id": "76204a45",
   "metadata": {},
   "outputs": [],
   "source": [
    "def calculate_statistics(df, output_file):\n",
    "    # Specify the percentiles to be calculated\n",
    "    percentiles = [0.10, 0.25, 0.50, 0.75, 0.90]\n",
    "    \n",
    "    # Use describe to get statistics including specified percentiles\n",
    "    desc = df.describe(percentiles=percentiles).T\n",
    "    \n",
    "    # Calculate IQR (Interquartile Range)\n",
    "    desc['IQR'] = desc['75%'] - desc['25%']\n",
    "    \n",
    "    # Calculate IQR%\n",
    "    desc['IQR%'] = desc['IQR'] / desc['50%'] * 100\n",
    "    \n",
    "    # Re-arrange the DataFrame to include IQR and IQR% in the output\n",
    "    stats_df = desc[['count', 'mean', 'std', 'min', '10%', '25%', '50%', '75%', '90%', 'max', 'IQR', 'IQR%']]\n",
    "    \n",
    "    # Transpose so that statistical measures are rows and columns are original DataFrame columns\n",
    "    stats_df = stats_df.T\n",
    "    \n",
    "    # Write the result to a CSV file\n",
    "    stats_df.to_csv(output_file)"
   ]
  },
  {
   "cell_type": "code",
   "execution_count": null,
   "id": "b6b9af65",
   "metadata": {},
   "outputs": [],
   "source": [
    "calculate_statistics(frame, 'Full_set_statistics.csv')"
   ]
  },
  {
   "cell_type": "markdown",
   "id": "750865a4",
   "metadata": {},
   "source": [
    "Set the measurand + unit you want to plot the histogram for:"
   ]
  },
  {
   "cell_type": "code",
   "execution_count": 43,
   "id": "14b3b9f1",
   "metadata": {},
   "outputs": [],
   "source": [
    "measurand = 'Fmin'\n",
    "unit = '(nm)'"
   ]
  },
  {
   "cell_type": "markdown",
   "id": "0cd22118",
   "metadata": {},
   "source": [
    "Define the function to plot the histogram. The function contains a boolean 'PercentileLines' to determine whether vertical lines at the positions of the d10, d25, d50, d75, d90 should be drawn on the histogram. "
   ]
  },
  {
   "cell_type": "code",
   "execution_count": 73,
   "id": "05d97219",
   "metadata": {},
   "outputs": [],
   "source": [
    "def plotHistogram(df, PercentileLines: bool):\n",
    "    hist = sns.histplot(df, label='N = ' + str(len(df.index)), bins = 'fd') #bins according to Freedman-Diaconis rule\n",
    "    #plt.rcParams[\"figure.figsize\"] = (8.475,6.675)\n",
    "    plt.xlabel(measurand + ' ' + unit, fontsize = 20)\n",
    "    plt.ylabel('Count', fontsize=20)\n",
    "    #plt.xlim(0,35)\n",
    "    #plt.ylim(0,500)\n",
    "    plt.xticks(fontsize=16)\n",
    "    plt.yticks(fontsize=16)\n",
    "    plt.legend(fontsize=14)\n",
    "    plt.tight_layout()\n",
    "    \n",
    "    #if PercentileLines is True, the next few lines of code will plot vertical lines on the histogram at the position of the different percentiles\n",
    "    if PercentileLines:\n",
    "        perc_txt = ['d10', 'd25', 'd50', 'd75', 'd90']\n",
    "        percs = [df.quantile(0.1), df.quantile(0.25), df.quantile(0.5), df.quantile(0.75), df.quantile(0.9)]\n",
    "        max_y_value = max([p.get_height() for p in hist.patches])\n",
    "        for i, p in enumerate(percs):\n",
    "            plt.axvline(x = p, color = 'k', linestyle = '--')\n",
    "            plt.text(p - (percs[0]/10), max_y_value - (max_y_value/8), perc_txt[i], rotation = 'vertical', fontsize = 14)\n",
    "    \n",
    "    plt.savefig(measurand + '_hist_N=' + str(len(df.index)) +'.png', dpi = 200)\n",
    "    "
   ]
  },
  {
   "cell_type": "markdown",
   "id": "457c799d",
   "metadata": {},
   "source": [
    "Plot the histogram of e.g. Fmin:"
   ]
  },
  {
   "cell_type": "code",
   "execution_count": 81,
   "id": "eedf3d0c",
   "metadata": {},
   "outputs": [
    {
     "data": {
      "image/png": "[encoded data removed]",
      "text/plain": [
       "<Figure size 432x288 with 1 Axes>"
      ]
     },
     "metadata": {
      "needs_background": "light"
     },
     "output_type": "display_data"
    }
   ],
   "source": [
    "plotHistogram(frame[measurand], True)"
   ]
  },
  {
   "cell_type": "markdown",
   "id": "cff78baf",
   "metadata": {},
   "source": [
    "## 1.3 Sampling subdatasets of increasing particle size N"
   ]
  },
  {
   "cell_type": "markdown",
   "id": "263ba711",
   "metadata": {},
   "source": [
    "Create a list of N values between 10 and the max of the full data set. For each of these values a subdataset will be sampled later."
   ]
  },
  {
   "cell_type": "code",
   "execution_count": 7,
   "id": "77037fc6",
   "metadata": {},
   "outputs": [],
   "source": [
    "# Create a list of 80 integers logaritmically spaced between 10 and 10^4\n",
    "n=np.logspace(1, 4, num=80, dtype='int')\n",
    "\n",
    "# Delete the numbers which are larger than the size of the original dataset and append the number equal to the size of the dataframe which is the max sampling N\n",
    "n=n[n< len(frame)]\n",
    "if(n[-1]<10000): n=np.append(n, len(frame))\n",
    "    \n",
    "# Delete repeating numbers\n",
    "n=np.unique(n)"
   ]
  },
  {
   "cell_type": "code",
   "execution_count": 8,
   "id": "37e8226b",
   "metadata": {},
   "outputs": [
    {
     "name": "stdout",
     "output_type": "stream",
     "text": [
      "       Fmin  Fmax   ECD  MICD      AR\n",
      "0       9.6  14.6  12.3  10.2  1.5000\n",
      "1      14.8  16.9  15.8  14.4  1.0853\n",
      "2      15.6  19.9  17.8  15.7  1.2308\n",
      "3      17.9  20.8  19.2  17.8  1.0230\n",
      "4      20.3  23.3  22.0  20.9  1.1176\n",
      "...     ...   ...   ...   ...     ...\n",
      "11648  13.2  17.8  15.4  13.4  1.3182\n",
      "11649  14.4  18.3  16.4  15.2  1.1667\n",
      "11650  14.1  16.3  15.0  14.0  1.0414\n",
      "11651  16.0  18.0  17.3  16.3  1.1053\n",
      "11652  18.2  20.7  19.3  17.3  1.0161\n",
      "\n",
      "[11653 rows x 5 columns]\n"
     ]
    }
   ],
   "source": [
    "print(frame)"
   ]
  },
  {
   "cell_type": "markdown",
   "id": "e49c863e",
   "metadata": {},
   "source": [
    "Construct a function to create subsamples of measured particles of increasing size N for a chosen number of samples per N. Return dataframes where for each N, the mean, std and relative std. Run the function for 500 subsamples."
   ]
  },
  {
   "cell_type": "code",
   "execution_count": 9,
   "id": "ec2c9797",
   "metadata": {},
   "outputs": [],
   "source": [
    "def SubSampling(df, numSamplesPerNumParticles: int):\n",
    "    # create an empty numpy array of objects with size equal to the number of columns in the dataframe, i.e. the number of measurands\n",
    "    measurands = df.columns.values\n",
    "    print(measurands)\n",
    "    stats = np.empty(len(measurands), dtype=object)\n",
    "\n",
    "    for i in tqdm(n):    # tqdm shows a status bar for the for loop in the console + time estimate\n",
    "        for j in range(0, numSamplesPerNumParticles):\n",
    "            df_s = df.sample(n=i, replace=True)\n",
    "            for k,m in enumerate(measurands):\n",
    "                # calculate the statistics including percentiles of the subsample\n",
    "                stats_temp = df_s[m].describe(percentiles=[0.05, 0.10, 0.25, 0.5, 0.75, 0.9, 0.95])\n",
    "                \n",
    "                # Add the statistics calculated for each N and for each sample to a dataframe\n",
    "                stats[k] = pd.concat([stats[k], stats_temp.to_frame().transpose()], ignore_index=True)\n",
    "    \n",
    "    # calculate the dataframes grouped by \"count\"(=particle number N), where the mean, std and U_N (saved as <lambda_0>) of the different samples at each N are calculated and store them in a list \n",
    "    data_out = []\n",
    "    for s in range(0, len(stats)):\n",
    "        data_out.append(stats[s].groupby(\"count\").agg([np.mean, np.std, lambda x: 2*100* (np.std(x) / np.mean(x))]))\n",
    "        \n",
    "    return data_out"
   ]
  },
  {
   "cell_type": "code",
   "execution_count": 10,
   "id": "c14f4c1c",
   "metadata": {},
   "outputs": [
    {
     "name": "stdout",
     "output_type": "stream",
     "text": [
      "['Fmin' 'Fmax' 'ECD' 'MICD' 'AR']\n"
     ]
    },
    {
     "name": "stderr",
     "output_type": "stream",
     "text": [
      "100%|██████████| 79/79 [07:17<00:00,  5.54s/it]\n"
     ]
    }
   ],
   "source": [
    "SamplingData = SubSampling(frame, 500)"
   ]
  },
  {
   "cell_type": "markdown",
   "id": "40104c93",
   "metadata": {},
   "source": [
    "Define a function to rename the percentile columns in the sampling data:"
   ]
  },
  {
   "cell_type": "code",
   "execution_count": 11,
   "id": "8b55fb99",
   "metadata": {},
   "outputs": [],
   "source": [
    "def RenamePercCols(df):\n",
    "    df.rename(\n",
    "        columns={'5%': 'D5', '10%': 'D10', '25%': 'D25', '50%': 'D50', '75%': 'D75', '90%': 'D90', '95%': 'D95'},\n",
    "        inplace=True,\n",
    ")\n",
    "    return"
   ]
  },
  {
   "cell_type": "markdown",
   "id": "4730ef81",
   "metadata": {},
   "source": [
    "Apply the above generated function and save the dataframes as csv files for each measurand:"
   ]
  },
  {
   "cell_type": "code",
   "execution_count": 12,
   "id": "c14f7e27",
   "metadata": {},
   "outputs": [],
   "source": [
    "for i, fr in enumerate(SamplingData):\n",
    "    RenamePercCols(fr)\n",
    "    measurand = frame.columns[i]\n",
    "    fr.to_csv('SubSampling_Stats_'+measurand+'.csv')"
   ]
  },
  {
   "cell_type": "markdown",
   "id": "38981198",
   "metadata": {},
   "source": [
    "# 2 Plotting and fitting relation between N and U_N"
   ]
  },
  {
   "cell_type": "markdown",
   "id": "ae4a568a",
   "metadata": {},
   "source": [
    "The uncertainty related to particle number U_N is defined at each N by the relative std of the characteristic calculated based on the subsamples. It is expressed with a confidence interval of 95% (k=2). We will now plot the relation between N and U_N and determine the number of particles required to reach specific values of U_N by fitting the relation. Let's say we wanna do this for the Fmin."
   ]
  },
  {
   "cell_type": "markdown",
   "id": "5766bef4",
   "metadata": {},
   "source": [
    "First, let's read in the subsampling data produced in section 1."
   ]
  },
  {
   "cell_type": "code",
   "execution_count": 13,
   "id": "a552dbf9",
   "metadata": {},
   "outputs": [
    {
     "data": {
      "text/plain": [
       "'C:\\\\Users\\\\ChWo3222\\\\Desktop\\\\MyNotebooks\\\\NumPar'"
      ]
     },
     "execution_count": 13,
     "metadata": {},
     "output_type": "execute_result"
    }
   ],
   "source": [
    "#os.chdir('..')\n",
    "os.getcwd()"
   ]
  },
  {
   "cell_type": "code",
   "execution_count": 14,
   "id": "2dd422dd",
   "metadata": {},
   "outputs": [],
   "source": [
    "measurand = 'Fmin' # choose Fmin, Fmax, ECD, MICD, AR or other\n",
    "data = pd.read_csv('SubSampling_Stats_'+measurand+'.csv', header=[0, 1], index_col=0)"
   ]
  },
  {
   "cell_type": "markdown",
   "id": "5ae86c1c",
   "metadata": {},
   "source": [
    "Make a new folder to save the generated output plots and change the directory to it:"
   ]
  },
  {
   "cell_type": "code",
   "execution_count": 15,
   "id": "42259a51",
   "metadata": {},
   "outputs": [],
   "source": [
    "folder = measurand + '_output'\n",
    "#os.makedirs(folder) # comment this line when the folder already exists\n",
    "os.chdir(folder)"
   ]
  },
  {
   "cell_type": "markdown",
   "id": "2ff8d85d",
   "metadata": {},
   "source": [
    "## 2.1 Plotting"
   ]
  },
  {
   "cell_type": "markdown",
   "id": "afc68399",
   "metadata": {},
   "source": [
    "Defining a function that plots a specific column (defined by two columns titles column = D10, D50, etc.., par = mean, std, <lambda_0>) of a dataframe df."
   ]
  },
  {
   "cell_type": "code",
   "execution_count": 83,
   "id": "9454bbde",
   "metadata": {},
   "outputs": [],
   "source": [
    "def plot_datacolumn(df, column: str, par: str):\n",
    "    \n",
    "    if par == '<lambda_0>': \n",
    "        par_l = r'$U_{\\rm N}$'\n",
    "        unit = '(%)'\n",
    "    elif par == 'mean':\n",
    "        par_l = 'Mean'\n",
    "        unit = '(nm)'\n",
    "    elif par == 'std':\n",
    "        par_l = 'Std'\n",
    "        unit = '(nm)'\n",
    "    else:\n",
    "        par_l = par\n",
    "        unit = ''\n",
    "    \n",
    "    plt.figure(facecolor='white')\n",
    "    plt.semilogx(df.index, df[column, par], '.', label=column)\n",
    "    plt.ylabel(par_l + ' ' + unit, fontsize=20)      \n",
    "    plt.xlabel(r'$N$', fontsize=20)\n",
    "    plt.xticks(fontsize=16)\n",
    "    plt.yticks(fontsize=16)\n",
    "    plt.xlim(10,df.index[-1])\n",
    "    plt.legend(fontsize = 14)\n",
    "    plt.tight_layout()\n",
    "    #plt.title(material +' ' + measurand, fontsize=25)\n",
    "    #plt.savefig('RelativeStd_' + column + 'percentile_vsN_' + parameterLabel +'.jpeg', dpi = 100)\n",
    "    #plt.show()\n",
    "    #plt.clf()"
   ]
  },
  {
   "cell_type": "markdown",
   "id": "e6ce295e",
   "metadata": {},
   "source": [
    "Plot the mean and U_N as a function of N:"
   ]
  },
  {
   "cell_type": "code",
   "execution_count": 84,
   "id": "0f84fc90",
   "metadata": {},
   "outputs": [
    {
     "data": {
      "image/png": "[encoded data removed]",
      "text/plain": [
       "<Figure size 432x288 with 1 Axes>"
      ]
     },
     "metadata": {
      "needs_background": "light"
     },
     "output_type": "display_data"
    },
    {
     "data": {
      "image/png": "[encoded data removed]",
      "text/plain": [
       "<Figure size 432x288 with 1 Axes>"
      ]
     },
     "metadata": {
      "needs_background": "light"
     },
     "output_type": "display_data"
    }
   ],
   "source": [
    "plot_datacolumn(data, 'D50', 'mean')\n",
    "plt.show()\n",
    "plot_datacolumn(data, 'D50', '<lambda_0>')\n",
    "plt.show()"
   ]
  },
  {
   "cell_type": "markdown",
   "id": "adc90f5b",
   "metadata": {},
   "source": [
    "Plot U_N of all percentiles as a function of N on one plot:"
   ]
  },
  {
   "cell_type": "code",
   "execution_count": 18,
   "id": "d6b8dc31",
   "metadata": {},
   "outputs": [
    {
     "data": {
      "image/png": "[encoded data removed]",
      "text/plain": [
       "<Figure size 432x288 with 1 Axes>"
      ]
     },
     "metadata": {
      "needs_background": "light"
     },
     "output_type": "display_data"
    }
   ],
   "source": [
    "perc=['D10', 'D25', 'D50', 'D75', 'D90']\n",
    "for p in perc:\n",
    "    plot_datacolumn(data, p, '<lambda_0>')\n",
    "plt.show()"
   ]
  },
  {
   "cell_type": "markdown",
   "id": "4a615f8d",
   "metadata": {},
   "source": [
    "Do the same but on a logscale for the y axis as well:"
   ]
  },
  {
   "cell_type": "code",
   "execution_count": 19,
   "id": "6165be6d",
   "metadata": {},
   "outputs": [
    {
     "data": {
      "image/png": "[encoded data removed]",
      "text/plain": [
       "<Figure size 432x288 with 1 Axes>"
      ]
     },
     "metadata": {
      "needs_background": "light"
     },
     "output_type": "display_data"
    }
   ],
   "source": [
    "perc=['D10', 'D25', 'D50', 'D75', 'D90']\n",
    "for p in perc:\n",
    "    plot_datacolumn(data, p, '<lambda_0>')\n",
    "plt.yscale('log')\n",
    "plt.ylim(0.1,50)\n",
    "plt.show()"
   ]
  },
  {
   "cell_type": "markdown",
   "id": "6cb692f0",
   "metadata": {},
   "source": [
    "## 2.2 Fitting U_N using UnivariateSpline"
   ]
  },
  {
   "cell_type": "markdown",
   "id": "5dd0c3cd",
   "metadata": {},
   "source": [
    "Set parameter for which you wanna do the fitting:"
   ]
  },
  {
   "cell_type": "code",
   "execution_count": 20,
   "id": "1272d402",
   "metadata": {},
   "outputs": [],
   "source": [
    "par = 'D50'"
   ]
  },
  {
   "cell_type": "code",
   "execution_count": 21,
   "id": "b01a1424",
   "metadata": {},
   "outputs": [],
   "source": [
    "xs = np.linspace(1, 4, 1000)\n",
    "xs_f = 10**xs\n",
    "xs_f = xs_f[xs_f<=data.index[-1]]"
   ]
  },
  {
   "cell_type": "code",
   "execution_count": 22,
   "id": "4e4ecefa",
   "metadata": {},
   "outputs": [],
   "source": [
    "def smoothCurve(df, column, smoothing):\n",
    "    xlogScale = np.log10(df.index)  #x data need to be converted to linear scale for the spline to work\n",
    "    s = UnivariateSpline(xlogScale, df[column, '<lambda_0>'], s = smoothing) #s = smoothing factor, the higher the more smoothing is applied\n",
    "\n",
    "    ys = s(xs)\n",
    "    ys_f = ys[0:len(xs_f)]\n",
    "    \n",
    "    plt.plot(xs_f, ys_f, 'k-')\n",
    "    plot_datacolumn(df, column, '<lambda_0>')\n",
    "    plt.xscale('log')\n",
    "    #plt.savefig('RelativeStd_' + column + 'percentile_vsN_' + parameterLabel +'_smoothCurve.png', dpi = 300)\n",
    "    plt.tight_layout()\n",
    "    plt.show()\n",
    "    #smo.append(smoothing)\n",
    "    return ys_f"
   ]
  },
  {
   "cell_type": "markdown",
   "id": "855787e0",
   "metadata": {},
   "source": [
    "Adapt the smoothing value until a nice smooth curve fit is obtained. Increasing the value will make the curve more smooth."
   ]
  },
  {
   "cell_type": "code",
   "execution_count": 28,
   "id": "eb11de7e",
   "metadata": {},
   "outputs": [
    {
     "data": {
      "image/png": "[encoded data removed]",
      "text/plain": [
       "<Figure size 432x288 with 1 Axes>"
      ]
     },
     "metadata": {
      "needs_background": "light"
     },
     "output_type": "display_data"
    },
    {
     "data": {
      "text/plain": [
       "array([14.5962811 , 14.54867752, 14.50120258, 14.45385607, 14.4066378 ,\n",
       "       14.35954756, 14.31258515, 14.26575036, 14.21904299, 14.17246285,\n",
       "       14.12600972, 14.0796834 , 14.03348369, 13.98741039, 13.94146329,\n",
       "       13.8956422 , 13.8499469 , 13.8043772 , 13.75893289, 13.71361377,\n",
       "       13.66841964, 13.62335029, 13.57840553, 13.53358513, 13.48888892,\n",
       "       13.44431668, 13.3998682 , 13.35554329, 13.31134175, 13.26726336,\n",
       "       13.22330793, 13.17947526, 13.13576514, 13.09217736, 13.04871173,\n",
       "       13.00536805, 12.9621461 , 12.91904569, 12.87606661, 12.83320867,\n",
       "       12.79047165, 12.74785536, 12.70535959, 12.66298413, 12.6207288 ,\n",
       "       12.57859337, 12.53657766, 12.49468145, 12.45290455, 12.41124675,\n",
       "       12.36970785, 12.32828764, 12.28698593, 12.2458025 , 12.20473716,\n",
       "       12.16378971, 12.12295993, 12.08224764, 12.04165261, 12.00117466,\n",
       "       11.96081358, 11.92056917, 11.88044122, 11.84042952, 11.80053389,\n",
       "       11.76075411, 11.72108998, 11.6815413 , 11.64210786, 11.60278947,\n",
       "       11.56358591, 11.52449699, 11.48552251, 11.44666226, 11.40791603,\n",
       "       11.36928363, 11.33076485, 11.29235949, 11.25406735, 11.21588822,\n",
       "       11.17782189, 11.13986818, 11.10202687, 11.06429776, 11.02668065,\n",
       "       10.98917533, 10.95178161, 10.91449928, 10.87732813, 10.84026797,\n",
       "       10.80331858, 10.76647978, 10.72975135, 10.69313309, 10.6566248 ,\n",
       "       10.62022627, 10.58393731, 10.54775771, 10.51168727, 10.47572578,\n",
       "       10.43987304, 10.40412885, 10.368493  , 10.3329653 , 10.29754554,\n",
       "       10.26223351, 10.22702901, 10.19193185, 10.15694182, 10.1220587 ,\n",
       "       10.08728232, 10.05261244, 10.01804889,  9.98359145,  9.94923992,\n",
       "        9.91499409,  9.88085377,  9.84681875,  9.81288883,  9.7790638 ,\n",
       "        9.74534347,  9.71172763,  9.67821607,  9.64480859,  9.611505  ,\n",
       "        9.57830508,  9.54520864,  9.51221547,  9.47932537,  9.44653813,\n",
       "        9.41385356,  9.38127145,  9.34879159,  9.31641379,  9.28413784,\n",
       "        9.25196354,  9.21989068,  9.18791907,  9.15604849,  9.12427875,\n",
       "        9.09260965,  9.06104097,  9.02957252,  8.9982041 ,  8.9669355 ,\n",
       "        8.93576652,  8.90469695,  8.87372659,  8.84285525,  8.81208271,\n",
       "        8.78140878,  8.75083325,  8.72035591,  8.68997657,  8.65969503,\n",
       "        8.62951107,  8.5994245 ,  8.56943511,  8.5395427 ,  8.50974708,\n",
       "        8.48004802,  8.45044534,  8.42093882,  8.39152827,  8.36221349,\n",
       "        8.33299426,  8.30387039,  8.27484168,  8.24590791,  8.21706889,\n",
       "        8.18832442,  8.15967429,  8.1311183 ,  8.10265625,  8.07428793,\n",
       "        8.04601314,  8.01783168,  7.98974334,  7.96174793,  7.93384523,\n",
       "        7.90603505,  7.87831718,  7.85069142,  7.82315757,  7.79571542,\n",
       "        7.76836477,  7.74110542,  7.71393717,  7.68685981,  7.65987313,\n",
       "        7.63297695,  7.60617104,  7.57945522,  7.55282928,  7.526293  ,\n",
       "        7.49984621,  7.47348867,  7.44722021,  7.42104061,  7.39494967,\n",
       "        7.36894718,  7.34303295,  7.31720677,  7.29146844,  7.26581775,\n",
       "        7.2402545 ,  7.2147785 ,  7.18938953,  7.16408739,  7.13887188,\n",
       "        7.1137428 ,  7.08869995,  7.06374312,  7.0388721 ,  7.0140867 ,\n",
       "        6.98938672,  6.96477194,  6.94024217,  6.91579721,  6.89143684,\n",
       "        6.86716088,  6.8429691 ,  6.81886133,  6.79483733,  6.77089693,\n",
       "        6.74703991,  6.72326607,  6.69957521,  6.67596712,  6.6524416 ,\n",
       "        6.62899845,  6.60563747,  6.58235845,  6.55916119,  6.53604548,\n",
       "        6.51301113,  6.49005794,  6.46718568,  6.44439418,  6.42168321,\n",
       "        6.39905259,  6.3765021 ,  6.35403155,  6.33164072,  6.30932942,\n",
       "        6.28709745,  6.2649446 ,  6.24287066,  6.22087545,  6.19895874,\n",
       "        6.17712034,  6.15536006,  6.13367767,  6.11207299,  6.0905458 ,\n",
       "        6.06909591,  6.04772311,  6.0264272 ,  6.00520798,  5.98406524,\n",
       "        5.96299877,  5.94200839,  5.92109388,  5.90025505,  5.87949168,\n",
       "        5.85880357,  5.83819053,  5.81765235,  5.79718883,  5.77679976,\n",
       "        5.75648494,  5.73624416,  5.71607724,  5.69598395,  5.67596411,\n",
       "        5.6560175 ,  5.63614392,  5.61634317,  5.59661505,  5.57695936,\n",
       "        5.55737589,  5.53786443,  5.51842479,  5.49905677,  5.47976015,\n",
       "        5.46053474,  5.44138033,  5.42229672,  5.40328372,  5.3843411 ,\n",
       "        5.36546868,  5.34666625,  5.3279336 ,  5.30927054,  5.29067686,\n",
       "        5.27215235,  5.25369682,  5.23531006,  5.21699187,  5.19874204,\n",
       "        5.18056038,  5.16244668,  5.14440073,  5.12642234,  5.10851129,\n",
       "        5.0906674 ,  5.07289045,  5.05518024,  5.03753657,  5.01995924,\n",
       "        5.00244804,  4.98500277,  4.96762322,  4.95030921,  4.93306051,\n",
       "        4.91587693,  4.89875827,  4.88170432,  4.86471488,  4.84778974,\n",
       "        4.83092871,  4.81413158,  4.79739815,  4.78072821,  4.76412156,\n",
       "        4.74757801,  4.73109734,  4.71467935,  4.69832384,  4.68203061,\n",
       "        4.66579946,  4.64963017,  4.63352255,  4.6174764 ,  4.60149152,\n",
       "        4.58556769,  4.56970471,  4.5539024 ,  4.53816053,  4.52247891,\n",
       "        4.50685733,  4.4912956 ,  4.4757935 ,  4.46035084,  4.44496742,\n",
       "        4.42964302,  4.41437745,  4.39917051,  4.38402199,  4.36893168,\n",
       "        4.35389939,  4.33892492,  4.32400805,  4.30914859,  4.29434633,\n",
       "        4.27960107,  4.26491262,  4.25028075,  4.23570528,  4.221186  ,\n",
       "        4.2067227 ,  4.19231518,  4.17796325,  4.16366669,  4.14942531,\n",
       "        4.1352389 ,  4.12110725,  4.10703018,  4.09300746,  4.0790389 ,\n",
       "        4.0651243 ,  4.05126346,  4.03745616,  4.02370221,  4.01000141,\n",
       "        3.99635355,  3.98275843,  3.96921584,  3.95572559,  3.94228746,\n",
       "        3.92890127,  3.91556679,  3.90228384,  3.88905221,  3.87587169,\n",
       "        3.86274209,  3.84966319,  3.8366348 ,  3.82365672,  3.81072873,\n",
       "        3.79785064,  3.78502225,  3.77224335,  3.75951374,  3.74683321,\n",
       "        3.73420157,  3.7216186 ,  3.70908412,  3.6965979 ,  3.68415976,\n",
       "        3.67176949,  3.65942688,  3.64713174,  3.63488385,  3.62268302,\n",
       "        3.61052905,  3.59842172,  3.58636084,  3.57434621,  3.56237762,\n",
       "        3.55045487,  3.53857775,  3.52674606,  3.51495961,  3.50321818,\n",
       "        3.49152158,  3.4798696 ,  3.46826204,  3.45669869,  3.44517935,\n",
       "        3.43370383,  3.4222719 ,  3.41088339,  3.39953807,  3.38823575,\n",
       "        3.37697623,  3.3657593 ,  3.35458475,  3.3434524 ,  3.33236202,\n",
       "        3.32131343,  3.31030641,  3.29934076,  3.28841629,  3.27753279,\n",
       "        3.26669005,  3.25588787,  3.24512605,  3.23440439,  3.22372268,\n",
       "        3.21308072,  3.20247831,  3.19191525,  3.18139133,  3.17090634,\n",
       "        3.16046009,  3.15005238,  3.13968299,  3.12935173,  3.11905839,\n",
       "        3.10880278,  3.09858468,  3.0884039 ,  3.07826023,  3.06815347,\n",
       "        3.05808342,  3.04804987,  3.03805262,  3.02809147,  3.01816621,\n",
       "        3.00827664,  2.99842257,  2.98860378,  2.97882007,  2.96907124,\n",
       "        2.95935709,  2.94967741,  2.940032  ,  2.93042066,  2.92084319,\n",
       "        2.91129938,  2.90178903,  2.89231193,  2.88286789,  2.8734567 ,\n",
       "        2.86407815,  2.85473205,  2.84541819,  2.83613637,  2.82688639,\n",
       "        2.81766804,  2.80848112,  2.79932542,  2.79020075,  2.7811069 ,\n",
       "        2.77204367,  2.76301086,  2.75400825,  2.74503566,  2.73609287,\n",
       "        2.72717968,  2.7182959 ,  2.70944131,  2.70061572,  2.69181892,\n",
       "        2.6830507 ,  2.67431088,  2.66559923,  2.65691557,  2.64825968,\n",
       "        2.63963136,  2.63103042,  2.62245665,  2.61390984,  2.60538979,\n",
       "        2.5968963 ,  2.58842917,  2.57998825,  2.57157348,  2.56318481,\n",
       "        2.55482219,  2.54648557,  2.53817488,  2.52989009,  2.52163114,\n",
       "        2.51339798,  2.50519055,  2.49700881,  2.4888527 ,  2.48072216,\n",
       "        2.47261716,  2.46453763,  2.45648352,  2.44845478,  2.44045137,\n",
       "        2.43247322,  2.42452028,  2.41659251,  2.40868985,  2.40081225,\n",
       "        2.39295965,  2.38513201,  2.37732927,  2.36955139,  2.3617983 ,\n",
       "        2.35406996,  2.34636631,  2.33868731,  2.33103289,  2.32340302,\n",
       "        2.31579763,  2.30821667,  2.3006601 ,  2.29312786,  2.2856199 ,\n",
       "        2.27813616,  2.2706766 ,  2.26324116,  2.25582979,  2.24844244,\n",
       "        2.24107905,  2.23373958,  2.22642397,  2.21913217,  2.21186413,\n",
       "        2.20461979,  2.19739911,  2.19020203,  2.1830285 ,  2.17587846,\n",
       "        2.16875188,  2.16164868,  2.15456883,  2.14751227,  2.14047894,\n",
       "        2.1334688 ,  2.1264818 ,  2.11951787,  2.11257698,  2.10565906,\n",
       "        2.09876407,  2.09189195,  2.08504265,  2.07821612,  2.07141231,\n",
       "        2.06463116,  2.05787263,  2.05113665,  2.04442319,  2.03773218,\n",
       "        2.03106358,  2.02441733,  2.01779338,  2.01119168,  2.00461218,\n",
       "        1.99805482,  1.99151955,  1.98500632,  1.97851509,  1.97204579,\n",
       "        1.96559837,  1.95917279,  1.95276898,  1.94638691,  1.94002651,\n",
       "        1.93368773,  1.92737053,  1.92107485,  1.91480063,  1.90854784,\n",
       "        1.9023164 ,  1.89610628,  1.88991742,  1.88374976,  1.87760327,\n",
       "        1.87147787,  1.86537353,  1.85929019,  1.85322779,  1.84718629,\n",
       "        1.84116563,  1.83516577,  1.82918665,  1.82322821,  1.81729041,\n",
       "        1.81137319,  1.8054765 ,  1.79960029,  1.79374451,  1.78790911,\n",
       "        1.78209403,  1.77629921,  1.77052462,  1.7647702 ,  1.75903589,\n",
       "        1.75332164,  1.74762741,  1.74195313,  1.73629876,  1.73066425,\n",
       "        1.72504953,  1.71945457,  1.71387931,  1.70832369,  1.70278767,\n",
       "        1.69727119,  1.69177421,  1.68629666,  1.68083849,  1.67539967,\n",
       "        1.66998012,  1.6645798 ,  1.65919867,  1.65383665,  1.64849372,\n",
       "        1.6431698 ,  1.63786486,  1.63257883,  1.62731167,  1.62206333,\n",
       "        1.61683374,  1.61162287,  1.60643065,  1.60125704,  1.59610198,\n",
       "        1.59096543,  1.58584732,  1.58074761,  1.57566625,  1.57060318,\n",
       "        1.56555836,  1.56053172,  1.55552322,  1.55053281,  1.54556043,\n",
       "        1.54060603,  1.53566956,  1.53075096,  1.5258502 ,  1.5209672 ,\n",
       "        1.51610193,  1.51125432,  1.50642434,  1.50161192,  1.49681701,\n",
       "        1.49203956,  1.48727952,  1.48253684,  1.47781146,  1.47310334,\n",
       "        1.46841241,  1.46373864,  1.45908196,  1.45444233,  1.44981969,\n",
       "        1.44521399,  1.44062517,  1.4360532 ,  1.43149801,  1.42695955,\n",
       "        1.42243777,  1.41793262,  1.41344405,  1.408972  ,  1.40451642,\n",
       "        1.40007727,  1.39565448,  1.391248  ,  1.38685779,  1.3824838 ,\n",
       "        1.37812596,  1.37378423,  1.36945856,  1.36514889,  1.36085517,\n",
       "        1.35657736,  1.35231539,  1.34806921,  1.34383878,  1.33962404,\n",
       "        1.33542494,  1.33124143,  1.32707345,  1.32292096,  1.3187839 ,\n",
       "        1.31466222,  1.31055586,  1.30646478,  1.30238892,  1.29832824,\n",
       "        1.29428267,  1.29025217,  1.28623669,  1.28223617,  1.27825056,\n",
       "        1.27427981,  1.27032386,  1.26638267,  1.26245619,  1.25854435,\n",
       "        1.25464711,  1.25076442,  1.24689623,  1.24304247,  1.23920311,\n",
       "        1.23537809,  1.23156735,  1.22777085,  1.22398853,  1.22022034,\n",
       "        1.21646622,  1.21272614,  1.20900003,  1.20528784,  1.20158952,\n",
       "        1.19790502,  1.19423428,  1.19057726,  1.1869339 ,  1.18330415,\n",
       "        1.17968796,  1.17608527,  1.17249604,  1.16892021,  1.16535773,\n",
       "        1.16180855,  1.15827261,  1.15474987,  1.15124027,  1.14774376,\n",
       "        1.14426028,  1.14078979,  1.13733224,  1.13388757,  1.13045572,\n",
       "        1.12703665,  1.12363031,  1.12023664,  1.11685559,  1.11348712,\n",
       "        1.11013115,  1.10678766,  1.10345657,  1.10013785,  1.09683144,\n",
       "        1.09353728,  1.09025533,  1.08698553,  1.08372783,  1.08048218,\n",
       "        1.07724853,  1.07402682,  1.070817  ,  1.06761903,  1.06443284,\n",
       "        1.06125839,  1.05809563,  1.05494449,  1.05180494,  1.04867692,\n",
       "        1.04556037,  1.04245524,  1.03936149,  1.03627906,  1.0332079 ,\n",
       "        1.03014795,  1.02709917,  1.02406149,  1.02103488,  1.01801928,\n",
       "        1.01501463,  1.01202089,  1.009038  ,  1.0060659 ,  1.00310456,\n",
       "        1.00015391,  0.9972139 ,  0.99428449,  0.99136562,  0.98845723,\n",
       "        0.98555928,  0.98267171,  0.97979447,  0.97692752,  0.97407079,\n",
       "        0.97122423,  0.9683878 ,  0.96556144,  0.9627451 ,  0.95993872,\n",
       "        0.95714227,  0.95435567,  0.95157888,  0.94881186,  0.94605454,\n",
       "        0.94330687,  0.94056881,  0.9378403 ,  0.93512129,  0.93241172,\n",
       "        0.92971155,  0.92702073,  0.92433919,  0.92166689,  0.91900378,\n",
       "        0.9163498 ,  0.9137049 ,  0.91106904,  0.90844215,  0.90582419,\n",
       "        0.9032151 ,  0.90061484,  0.89802334,  0.89544057,  0.89286646,\n",
       "        0.89030096,  0.88774403,  0.8851956 ,  0.88265564,  0.88012408,\n",
       "        0.87760087,  0.87508597,  0.87257931,  0.87008085,  0.86759054,\n",
       "        0.86510833,  0.86263415,  0.86016796,  0.85770971,  0.85525935,\n",
       "        0.85281682,  0.85038207,  0.84795505,  0.84553571,  0.84312399,\n",
       "        0.84071985,  0.83832322,  0.83593407,  0.83355233,  0.83117796,\n",
       "        0.8288109 ,  0.82645111,  0.82409852,  0.82175309,  0.81941476,\n",
       "        0.81708348,  0.81475921,  0.81244189,  0.81013146,  0.80782788,\n",
       "        0.80553108,  0.80324103,  0.80095767,  0.79868095,  0.79641081,\n",
       "        0.7941472 ,  0.79189007,  0.78963937,  0.78739505,  0.78515705,\n",
       "        0.78292532,  0.78069982,  0.77848048,  0.77626725,  0.7740601 ,\n",
       "        0.77185895,  0.76966376,  0.76747448,  0.76529106,  0.76311344,\n",
       "        0.76094158,  0.75877541,  0.75661489,  0.75445996,  0.75231058,\n",
       "        0.75016669,  0.74802825,  0.74589518,  0.74376746,  0.74164501,\n",
       "        0.7395278 ,  0.73741577,  0.73530887,  0.73320704,  0.73111023,\n",
       "        0.72901839,  0.72693148,  0.72484943,  0.72277219,  0.72069972,\n",
       "        0.71863196,  0.71656886,  0.71451037,  0.71245643,  0.71040699,\n",
       "        0.70836201,  0.70632142,  0.70428518,  0.70225323,  0.70022553,\n",
       "        0.69820202,  0.69618264,  0.69416736,  0.6921561 ,  0.69014883,\n",
       "        0.68814549,  0.68614603,  0.68415039,  0.68215853,  0.68017039,\n",
       "        0.67818592,  0.67620507,  0.67422779,  0.67225401,  0.67028371,\n",
       "        0.66831681,  0.66635327,  0.66439303,  0.66243605,  0.66048227,\n",
       "        0.65853164,  0.65658411,  0.65463962,  0.65269813,  0.65075957,\n",
       "        0.64882391,  0.64689109,  0.64496105,  0.64303374,  0.64110912,\n",
       "        0.63918713,  0.63726771,  0.63535082,  0.6334364 ,  0.6315244 ,\n",
       "        0.62961477,  0.62770746,  0.62580241,  0.62389958,  0.6219989 ,\n",
       "        0.62010034,  0.61820383,  0.61630933,  0.61441678,  0.61252613,\n",
       "        0.61063733,  0.60875033,  0.60686507,  0.60498151,  0.60309958,\n",
       "        0.60121925,  0.59934045,  0.59746313,  0.59558725,  0.59371274,\n",
       "        0.59183957,  0.58996767,  0.588097  ,  0.58622749,  0.58435911,\n",
       "        0.5824918 ,  0.5806255 ,  0.57876017,  0.57689574,  0.57503218,\n",
       "        0.57316943,  0.57130743,  0.56944614,  0.56758549,  0.56572545])"
      ]
     },
     "execution_count": 28,
     "metadata": {},
     "output_type": "execute_result"
    }
   ],
   "source": [
    "smoothing = 3\n",
    "smoothCurve(data, 'D50', smoothing)"
   ]
  },
  {
   "cell_type": "markdown",
   "id": "9771df4f",
   "metadata": {},
   "source": [
    "The next lines of code will do the smoothing for each of the percentiles of the choses measurand at the same time and save the output curves in the array sC:"
   ]
  },
  {
   "cell_type": "code",
   "execution_count": 31,
   "id": "bab0476b",
   "metadata": {},
   "outputs": [
    {
     "data": {
      "image/png": "[encoded data removed]",
      "text/plain": [
       "<Figure size 432x288 with 1 Axes>"
      ]
     },
     "metadata": {
      "needs_background": "light"
     },
     "output_type": "display_data"
    },
    {
     "data": {
      "image/png": "[encoded data removed]",
      "text/plain": [
       "<Figure size 432x288 with 1 Axes>"
      ]
     },
     "metadata": {
      "needs_background": "light"
     },
     "output_type": "display_data"
    },
    {
     "data": {
      "image/png": "[encoded data removed]",
      "text/plain": [
       "<Figure size 432x288 with 1 Axes>"
      ]
     },
     "metadata": {
      "needs_background": "light"
     },
     "output_type": "display_data"
    },
    {
     "data": {
      "image/png": "[encoded data removed]",
      "text/plain": [
       "<Figure size 432x288 with 1 Axes>"
      ]
     },
     "metadata": {
      "needs_background": "light"
     },
     "output_type": "display_data"
    },
    {
     "data": {
      "image/png": "[encoded data removed]",
      "text/plain": [
       "<Figure size 432x288 with 1 Axes>"
      ]
     },
     "metadata": {
      "needs_background": "light"
     },
     "output_type": "display_data"
    }
   ],
   "source": [
    "smo_list = [15, 8, 3, 0.7, 2]\n",
    "perc=['D10', 'D25', 'D50', 'D75', 'D90']\n",
    "sC = [0]*len(perc)\n",
    "\n",
    "for i, p in enumerate(perc):\n",
    "    sC[i] = smoothCurve(data, p, smo_list[i])"
   ]
  },
  {
   "cell_type": "markdown",
   "id": "8bab810a",
   "metadata": {},
   "source": [
    "# 3 Determining N_m from the spline curve"
   ]
  },
  {
   "cell_type": "markdown",
   "id": "6e15a87d",
   "metadata": {},
   "source": [
    "Define the function to calculate Nm for a predefined precision (=U_N) based on the smooth spline curve:"
   ]
  },
  {
   "cell_type": "code",
   "execution_count": 32,
   "id": "5d23555d",
   "metadata": {},
   "outputs": [],
   "source": [
    "def det_Nm(precision, ys):\n",
    "    #xs = np.linspace(1, 4, 1000)\n",
    "    if ys[0] < precision:\n",
    "        #return 10  # return 10 instead of NaN when Nm is actually lower than 10  --> for Nm vs. IQR/d50 plot\n",
    "        return np.nan\n",
    "    else:\n",
    "        idx = np.argwhere(np.diff(np.sign(precision - ys))).flatten()\n",
    "        \n",
    "        if not idx.size > 0:\n",
    "            return np.nan\n",
    "        else:\n",
    "            idx = idx[0]\n",
    "            Nm_lin=xs[idx]\n",
    "            Nm=m.ceil(10**Nm_lin)\n",
    "            #print(Nm)\n",
    "            return Nm"
   ]
  },
  {
   "cell_type": "markdown",
   "id": "1ac126d4",
   "metadata": {},
   "source": [
    "Set a set of U_N values for which you want to calculate Nm and initiate a dataframe to save the Nm values for each value of U_N:"
   ]
  },
  {
   "cell_type": "code",
   "execution_count": 33,
   "id": "01639fc8",
   "metadata": {},
   "outputs": [],
   "source": [
    "UN_out=[40, 30, 20, 15, 10, 8, 6, 5, 4, 3, 2, 1]\n",
    "df_Nm = pd.DataFrame()\n",
    "df_Nm['U_N']=UN_out"
   ]
  },
  {
   "cell_type": "markdown",
   "id": "45af4a41",
   "metadata": {},
   "source": [
    "Apply the det_Nm function for each element of the U_N array and for each of the percentiles. Save the Nm dataframe to a csv file:\n"
   ]
  },
  {
   "cell_type": "code",
   "execution_count": 34,
   "id": "67f32ef9",
   "metadata": {},
   "outputs": [
    {
     "name": "stdout",
     "output_type": "stream",
     "text": [
      "[nan, 15, 53, 102, 258, 422, 764, 1087, 1657, 2802, 6163, nan]\n",
      "[nan, nan, 15, 28, 63, 95, 170, 250, 396, 666, 1223, 2652]\n",
      "[nan, nan, nan, nan, 22, 34, 60, 86, 133, 241, 568, 2615]\n",
      "[nan, nan, nan, nan, 17, 27, 50, 70, 107, 206, 871, nan]\n",
      "[nan, nan, nan, nan, 19, 32, 58, 85, 138, 269, 921, nan]\n"
     ]
    }
   ],
   "source": [
    "for i, p in enumerate(perc):\n",
    "    c = sC[i]\n",
    "    N=[]\n",
    "    for U in UN_out:\n",
    "        N.append(det_Nm(U, c))\n",
    "    print(N)\n",
    "    df_Nm[p]=N"
   ]
  },
  {
   "cell_type": "code",
   "execution_count": 35,
   "id": "bf3ace51",
   "metadata": {},
   "outputs": [],
   "source": [
    "df_Nm.to_csv('Nm_table_'+measurand+'.csv')"
   ]
  },
  {
   "cell_type": "markdown",
   "id": "7d855982",
   "metadata": {},
   "source": [
    "# 4 Output plot(s)"
   ]
  },
  {
   "cell_type": "markdown",
   "id": "22f361e2",
   "metadata": {},
   "source": [
    "## 4.1 Nm vs UN"
   ]
  },
  {
   "cell_type": "code",
   "execution_count": 36,
   "id": "eb381925",
   "metadata": {},
   "outputs": [],
   "source": [
    "measurand = 'Fmin'"
   ]
  },
  {
   "cell_type": "markdown",
   "id": "248606db",
   "metadata": {},
   "source": [
    "Read in the Nm data generated in section 3."
   ]
  },
  {
   "cell_type": "markdown",
   "id": "d932aee6",
   "metadata": {},
   "source": [
    "If needed first go the right directory:"
   ]
  },
  {
   "cell_type": "code",
   "execution_count": 37,
   "id": "5f266d26",
   "metadata": {},
   "outputs": [
    {
     "name": "stdout",
     "output_type": "stream",
     "text": [
      "C:\\Users\\ChWo3222\\Desktop\\MyNotebooks\\NumPar\\Fmin_output\n"
     ]
    }
   ],
   "source": [
    "print(os.getcwd())"
   ]
  },
  {
   "cell_type": "code",
   "execution_count": null,
   "id": "aa0a7d94",
   "metadata": {},
   "outputs": [],
   "source": [
    "os.chdir('..')\n",
    "folder = measurand + '_output'\n",
    "#os.makedirs(folder) # comment this line when the folder already exists\n",
    "os.chdir(folder)"
   ]
  },
  {
   "cell_type": "code",
   "execution_count": 38,
   "id": "45c84a30",
   "metadata": {},
   "outputs": [],
   "source": [
    "plot_data = pd.read_csv('Nm_table_'+measurand+'.csv', header=[0], index_col=0)"
   ]
  },
  {
   "cell_type": "code",
   "execution_count": 39,
   "id": "c1a83b2c",
   "metadata": {},
   "outputs": [
    {
     "data": {
      "text/html": [
       "<div>\n",
       "<style scoped>\n",
       "    .dataframe tbody tr th:only-of-type {\n",
       "        vertical-align: middle;\n",
       "    }\n",
       "\n",
       "    .dataframe tbody tr th {\n",
       "        vertical-align: top;\n",
       "    }\n",
       "\n",
       "    .dataframe thead th {\n",
       "        text-align: right;\n",
       "    }\n",
       "</style>\n",
       "<table border=\"1\" class=\"dataframe\">\n",
       "  <thead>\n",
       "    <tr style=\"text-align: right;\">\n",
       "      <th></th>\n",
       "      <th>U_N</th>\n",
       "      <th>D10</th>\n",
       "      <th>D25</th>\n",
       "      <th>D50</th>\n",
       "      <th>D75</th>\n",
       "      <th>D90</th>\n",
       "    </tr>\n",
       "  </thead>\n",
       "  <tbody>\n",
       "    <tr>\n",
       "      <th>0</th>\n",
       "      <td>40</td>\n",
       "      <td>NaN</td>\n",
       "      <td>NaN</td>\n",
       "      <td>NaN</td>\n",
       "      <td>NaN</td>\n",
       "      <td>NaN</td>\n",
       "    </tr>\n",
       "    <tr>\n",
       "      <th>1</th>\n",
       "      <td>30</td>\n",
       "      <td>15.0</td>\n",
       "      <td>NaN</td>\n",
       "      <td>NaN</td>\n",
       "      <td>NaN</td>\n",
       "      <td>NaN</td>\n",
       "    </tr>\n",
       "    <tr>\n",
       "      <th>2</th>\n",
       "      <td>20</td>\n",
       "      <td>53.0</td>\n",
       "      <td>15.0</td>\n",
       "      <td>NaN</td>\n",
       "      <td>NaN</td>\n",
       "      <td>NaN</td>\n",
       "    </tr>\n",
       "    <tr>\n",
       "      <th>3</th>\n",
       "      <td>15</td>\n",
       "      <td>102.0</td>\n",
       "      <td>28.0</td>\n",
       "      <td>NaN</td>\n",
       "      <td>NaN</td>\n",
       "      <td>NaN</td>\n",
       "    </tr>\n",
       "    <tr>\n",
       "      <th>4</th>\n",
       "      <td>10</td>\n",
       "      <td>258.0</td>\n",
       "      <td>63.0</td>\n",
       "      <td>22.0</td>\n",
       "      <td>17.0</td>\n",
       "      <td>19.0</td>\n",
       "    </tr>\n",
       "    <tr>\n",
       "      <th>5</th>\n",
       "      <td>8</td>\n",
       "      <td>422.0</td>\n",
       "      <td>95.0</td>\n",
       "      <td>34.0</td>\n",
       "      <td>27.0</td>\n",
       "      <td>32.0</td>\n",
       "    </tr>\n",
       "    <tr>\n",
       "      <th>6</th>\n",
       "      <td>6</td>\n",
       "      <td>764.0</td>\n",
       "      <td>170.0</td>\n",
       "      <td>60.0</td>\n",
       "      <td>50.0</td>\n",
       "      <td>58.0</td>\n",
       "    </tr>\n",
       "    <tr>\n",
       "      <th>7</th>\n",
       "      <td>5</td>\n",
       "      <td>1087.0</td>\n",
       "      <td>250.0</td>\n",
       "      <td>86.0</td>\n",
       "      <td>70.0</td>\n",
       "      <td>85.0</td>\n",
       "    </tr>\n",
       "    <tr>\n",
       "      <th>8</th>\n",
       "      <td>4</td>\n",
       "      <td>1657.0</td>\n",
       "      <td>396.0</td>\n",
       "      <td>133.0</td>\n",
       "      <td>107.0</td>\n",
       "      <td>138.0</td>\n",
       "    </tr>\n",
       "    <tr>\n",
       "      <th>9</th>\n",
       "      <td>3</td>\n",
       "      <td>2802.0</td>\n",
       "      <td>666.0</td>\n",
       "      <td>241.0</td>\n",
       "      <td>206.0</td>\n",
       "      <td>269.0</td>\n",
       "    </tr>\n",
       "    <tr>\n",
       "      <th>10</th>\n",
       "      <td>2</td>\n",
       "      <td>6163.0</td>\n",
       "      <td>1223.0</td>\n",
       "      <td>568.0</td>\n",
       "      <td>871.0</td>\n",
       "      <td>921.0</td>\n",
       "    </tr>\n",
       "    <tr>\n",
       "      <th>11</th>\n",
       "      <td>1</td>\n",
       "      <td>NaN</td>\n",
       "      <td>2652.0</td>\n",
       "      <td>2615.0</td>\n",
       "      <td>NaN</td>\n",
       "      <td>NaN</td>\n",
       "    </tr>\n",
       "  </tbody>\n",
       "</table>\n",
       "</div>"
      ],
      "text/plain": [
       "    U_N     D10     D25     D50    D75    D90\n",
       "0    40     NaN     NaN     NaN    NaN    NaN\n",
       "1    30    15.0     NaN     NaN    NaN    NaN\n",
       "2    20    53.0    15.0     NaN    NaN    NaN\n",
       "3    15   102.0    28.0     NaN    NaN    NaN\n",
       "4    10   258.0    63.0    22.0   17.0   19.0\n",
       "5     8   422.0    95.0    34.0   27.0   32.0\n",
       "6     6   764.0   170.0    60.0   50.0   58.0\n",
       "7     5  1087.0   250.0    86.0   70.0   85.0\n",
       "8     4  1657.0   396.0   133.0  107.0  138.0\n",
       "9     3  2802.0   666.0   241.0  206.0  269.0\n",
       "10    2  6163.0  1223.0   568.0  871.0  921.0\n",
       "11    1     NaN  2652.0  2615.0    NaN    NaN"
      ]
     },
     "execution_count": 39,
     "metadata": {},
     "output_type": "execute_result"
    }
   ],
   "source": [
    "plot_data"
   ]
  },
  {
   "cell_type": "code",
   "execution_count": 57,
   "id": "6cc5d764",
   "metadata": {},
   "outputs": [
    {
     "data": {
      "image/png": "[encoded data removed]",
      "text/plain": [
       "<Figure size 432x288 with 1 Axes>"
      ]
     },
     "metadata": {},
     "output_type": "display_data"
    }
   ],
   "source": [
    "key_list = list(plot_data)\n",
    "key_list.remove('U_N')\n",
    "\n",
    "x_fit = np.arange(-1, 3)\n",
    "color = ['C0', 'C1', 'C2', 'C3', 'C4']\n",
    "#marker = ['o','s','v','^','<','>','p','P','*']\n",
    "fig, ax = plt.subplots(facecolor=(1, 1, 1))\n",
    "\n",
    "\n",
    "for k, c in zip(key_list, color):  \n",
    "    df_sub = pd.DataFrame()\n",
    "    df_sub['U_N'] = plot_data['U_N']\n",
    "    df_sub['Nm'] = plot_data[k]\n",
    "    df_sub = df_sub.dropna()\n",
    "    #print(df_sub)\n",
    "    \n",
    "    plt.plot(df_sub['U_N'], df_sub['Nm'], ls='None', marker ='s', color=c, label=k)\n",
    "    #plt.plot(df_sub['U_N'], df_sub['Nm'], label=k, ls='None', markerfacecolor='white',\n",
    "    #     markeredgewidth=2, markeredgecolor='k', markersize=9)\n",
    "    \n",
    "    if len(df_sub)>1:\n",
    "        z = np.polyfit(np.log10(df_sub['U_N']), np.log10(df_sub['Nm']), 1)\n",
    "        p = np.poly1d(z)\n",
    "        plt.plot([0.1, 1, 10, 100], 10**(p(x_fit)), '-', color=c)\n",
    "\n",
    "        \n",
    "plt.xlabel(r'$U_{\\rm N}$ ($\\%$)', fontsize=20)\n",
    "plt.ylabel(r'$N_{\\rm m}$', fontsize=20)\n",
    "plt.xticks(fontsize=18)\n",
    "plt.yticks(fontsize=18)\n",
    "plt.xscale('log')\n",
    "plt.yscale('log')\n",
    "plt.xlim(1,40)\n",
    "plt.ylim(10,2*10**4)\n",
    "ax.xaxis.set_major_formatter(ScalarFormatter())\n",
    "ax.set_xticks([1,2,5,10, 20, 40])\n",
    "plt.legend(fontsize = 14)\n",
    "plt.tight_layout()\n",
    "plt.savefig('NumPar_vs_UN_'+measurand+'_.png', dpi=200)\n"
   ]
  }
 ],
 "metadata": {
  "kernelspec": {
   "display_name": "Python 3 (ipykernel)",
   "language": "python",
   "name": "python3"
  },
  "language_info": {
   "codemirror_mode": {
    "name": "ipython",
    "version": 3
   },
   "file_extension": ".py",
   "mimetype": "text/x-python",
   "name": "python",
   "nbconvert_exporter": "python",
   "pygments_lexer": "ipython3",
   "version": "3.9.7"
  }
 },
 "nbformat": 4,
 "nbformat_minor": 5
}
